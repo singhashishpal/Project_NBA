{
 "cells": [
  {
   "cell_type": "code",
   "execution_count": 1,
   "metadata": {},
   "outputs": [],
   "source": [
    "import pandas as pd\n",
    "from matplotlib import pyplot as plt\n",
    "import scipy.stats as st\n",
    "from pathlib import Path\n",
    "import numpy as np\n",
    "from config import api_key\n",
    "import plotly.express as px\n",
    "import json\n",
    "import requests\n"
   ]
  },
  {
   "cell_type": "code",
   "execution_count": 2,
   "metadata": {},
   "outputs": [],
   "source": [
    "#Creating path\n",
    "\n",
    "csvpath1= Path(\"Resources/nba.csv\")\n",
    "csvpath2= Path(\"Resources/Playoffs.csv\")\n",
    "csvpath3= Path(\"Resources/Regular_Season.csv\")\n",
    "\n",
    "#Reading the csv files \n",
    "\n",
    "nba_df= pd.read_csv(csvpath1)\n",
    "playoffs_df= pd.read_csv(csvpath2)\n",
    "reg_season_df= pd.read_csv(csvpath3)"
   ]
  },
  {
   "cell_type": "code",
   "execution_count": 3,
   "metadata": {},
   "outputs": [],
   "source": [
    "# Renaming columns in nba_df, playoffs_df and reg_season_df\n",
    "\n",
    "nba_df= nba_df.rename(columns={\"PLAYER_ID\": \"Player_ID\", \"GP\": \"Games played\", \"MIN\": \"Minutes Played\", \n",
    "                               \"PTS\": \"Points\",\"RANK\": \"Rank\", \"PLAYER\": \"Player\", \"TEAM_ID\": \"Team_ID\",\n",
    "                                 \"TEAM\":\"Team\",\"year\": \"Year\"})\n",
    "\n",
    "playoffs_df= playoffs_df.rename(columns={\"PLAYER_ID\": \"Player_ID\", \"GP\": \"Games played\", \"MIN\": \"Minutes Played\", \n",
    "                               \"PTS\": \"Points\",\"RANK\": \"Rank\", \"PLAYER\": \"Player\", \"TEAM_ID\": \"Team_ID\",\n",
    "                                 \"TEAM\":\"Team\",\"year\": \"Year\"})\n",
    "\n",
    "reg_season_df= reg_season_df.rename(columns={\"PLAYER_ID\": \"Player_ID\", \"GP\": \"Games played\", \"MIN\": \"Minutes Played\", \n",
    "                               \"PTS\": \"Points\",\"RANK\": \"Rank\", \"PLAYER\": \"Player\", \"TEAM_ID\": \"Team_ID\",\n",
    "                                 \"TEAM\":\"Team\",\"year\": \"Year\"})\n"
   ]
  },
  {
   "cell_type": "code",
   "execution_count": 4,
   "metadata": {},
   "outputs": [],
   "source": [
    "# Checking for null values in the 3 dfs\n",
    "\n",
    "nullone= pd.isnull(nba_df)\n",
    "nulltwo= pd.isnull(playoffs_df)\n",
    "nullthree= pd.isnull(reg_season_df)\n",
    "\n",
    "# Dropping any null values\n",
    "\n",
    "nba_df= nba_df.dropna()\n",
    "playoffs_df= playoffs_df.dropna()\n",
    "reg_season_df= reg_season_df.dropna()\n",
    "\n",
    "# No null values found and dropped"
   ]
  },
  {
   "cell_type": "code",
   "execution_count": 5,
   "metadata": {},
   "outputs": [],
   "source": [
    "# Dropping the first column in playoffs_df and first 2 columns in reg_season_df \n",
    "\n",
    "playoffs_df = playoffs_df.drop(\"Unnamed: 0.1\", axis=1)\n",
    "reg_season_df= reg_season_df.drop([\"Unnamed: 0.1\", \"Unnamed: 0\"], axis=1)\n",
    "\n",
    "\n",
    "# Replacing \"Regular%20Season\" value in season_type column in  nba_df to \"Regular\"\n",
    "\n",
    "nba_df['Season_type'] = nba_df['Season_type'].replace('Regular%20Season', 'Regular')\n",
    "\n",
    "\n",
    "# Replacing \"Regular_Season\" value in season_type column in reg_seasons_df to \"Regular\"\n",
    "\n",
    "reg_season_df['Season_type'] = reg_season_df['Season_type'].replace('Regular_Season', 'Regular')"
   ]
  },
  {
   "cell_type": "markdown",
   "metadata": {},
   "source": [
    "## API Map representation of teams"
   ]
  },
  {
   "cell_type": "code",
   "execution_count": 6,
   "metadata": {},
   "outputs": [
    {
     "name": "stdout",
     "output_type": "stream",
     "text": [
      "Location: Atlanta, USA, Latitude: 33.7489924, Longitude: -84.3902644\n",
      "Location: Boston, USA, Latitude: 42.3554334, Longitude: -71.060511\n",
      "Location: Chicago, USA, Latitude: 41.8755616, Longitude: -87.6244212\n",
      "Location: New York, USA, Latitude: 40.7127281, Longitude: -74.0060152\n",
      "Location: North Carolina, USA, Latitude: 35.6729639, Longitude: -79.0392919\n",
      "Location: Cleveland, USA, Latitude: 41.4996574, Longitude: -81.6936772\n",
      "Location: Dallas, USA, Latitude: 32.7762719, Longitude: -96.7968559\n",
      "Location: Denver, USA, Latitude: 39.7392364, Longitude: -104.984862\n",
      "Location: Detroit, USA, Latitude: 42.3315509, Longitude: -83.0466403\n",
      "Location: Houston, USA, Latitude: 29.7589382, Longitude: -95.3676974\n",
      "Location: San Francisco, USA, Latitude: 37.7792588, Longitude: -122.4193286\n",
      "Location: Indianapolis, USA, Latitude: 39.7683331, Longitude: -86.1583502\n",
      "Location: Los Angeles, USA, Latitude: 34.0536909, Longitude: -118.242766\n",
      "Location: Memphis, USA, Latitude: 35.1460249, Longitude: -90.0517638\n",
      "Location: New Orleans, USA, Latitude: 29.9759983, Longitude: -90.0782127\n",
      "Location: Oklahoma City, USA, Latitude: 35.4729886, Longitude: -97.5170536\n",
      "Location: Orlando, USA, Latitude: 28.5421109, Longitude: -81.3790304\n",
      "Location: Philadelphia, USA, Latitude: 39.9527237, Longitude: -75.1635262\n",
      "Location: Phoenix, USA, Latitude: 33.4484367, Longitude: -112.074141\n",
      "Location: Portland, USA, Latitude: 40.9221629, Longitude: -75.0979793\n",
      "Location: Sacramento, USA, Latitude: 38.5810606, Longitude: -121.493895\n",
      "Location: San Antonio, USA, Latitude: 29.4246002, Longitude: -98.4951405\n",
      "Location: Toronto, Canada, Latitude: 43.6534817, Longitude: -79.3839347\n",
      "Location: Salt Lake City, USA, Latitude: 40.7596198, Longitude: -111.886797\n",
      "Location: Washington, USA, Latitude: 38.8950368, Longitude: -77.0365427\n",
      "Location: Miami, USA, Latitude: 25.7741728, Longitude: -80.19362\n",
      "Location: Milwaukee, USA, Latitude: 43.0386475, Longitude: -87.9090751\n",
      "Location: Minneapolis, USA, Latitude: 44.9772995, Longitude: -93.2654692\n",
      "Location: New Orleans, USA, Latitude: 29.9759983, Longitude: -90.0782127\n"
     ]
    }
   ],
   "source": [
    "# List of locations\n",
    "locations = [\"Atlanta, USA\", \"Boston, USA\", \"Chicago, USA\", \"New York, USA\", \"North Carolina, USA\",\n",
    "             \"Cleveland, USA\", \"Dallas, USA\", \"Denver, USA\", \"Detroit, USA\", \"Houston, USA\", \n",
    "             \"San Francisco, USA\", \"Indianapolis, USA\", \"Los Angeles, USA\", \"Memphis, USA\", \n",
    "             \"New Orleans, USA\", \"Oklahoma City, USA\", \"Orlando, USA\", \"Philadelphia, USA\", \"Phoenix, USA\",\n",
    "             \"Portland, USA\", \"Sacramento, USA\", \"San Antonio, USA\", \"Toronto, Canada\", \n",
    "             \"Salt Lake City, USA\", \"Washington, USA\", \"Miami, USA\", \"Milwaukee, USA\", \n",
    "             \"Minneapolis, USA\", \"New Orleans, USA\"]\n",
    "\n",
    "# Function to get latitude and longitude\n",
    "def get_lat_long(location, api_key):\n",
    "    base_url = \"https://api.geoapify.com/v1/geocode/search\"\n",
    "    params = {\n",
    "        \"text\": location,\n",
    "        \"apiKey\": api_key\n",
    "    }\n",
    "    response = requests.get(base_url, params=params)\n",
    "    if response.status_code == 200:\n",
    "        data = response.json()\n",
    "        if data['features']:\n",
    "            coords = data['features'][0]['geometry']['coordinates']\n",
    "            return {\"location\": location, \"latitude\": coords[1], \"longitude\": coords[0]}\n",
    "        else:\n",
    "            return {\"location\": location, \"error\": \"No coordinates found\"}\n",
    "    else:\n",
    "        return {\"location\": location, \"error\": f\"API request failed with status {response.status_code}\"}\n",
    "\n",
    "# Get latitude and longitude for each location\n",
    "results = []\n",
    "for loc in locations:\n",
    "    result = get_lat_long(loc, api_key)\n",
    "    results.append(result)\n",
    "\n",
    "# Print the results\n",
    "for result in results:\n",
    "    if \"error\" in result:\n",
    "        print(f\"Error for {result['location']}: {result['error']}\")\n",
    "    else:\n",
    "        print(f\"Location: {result['location']}, Latitude: {result['latitude']}, Longitude: {result['longitude']}\")"
   ]
  },
  {
   "cell_type": "code",
   "execution_count": 7,
   "metadata": {},
   "outputs": [
    {
     "data": {
      "text/html": [
       "<div>\n",
       "<style scoped>\n",
       "    .dataframe tbody tr th:only-of-type {\n",
       "        vertical-align: middle;\n",
       "    }\n",
       "\n",
       "    .dataframe tbody tr th {\n",
       "        vertical-align: top;\n",
       "    }\n",
       "\n",
       "    .dataframe thead th {\n",
       "        text-align: right;\n",
       "    }\n",
       "</style>\n",
       "<table border=\"1\" class=\"dataframe\">\n",
       "  <thead>\n",
       "    <tr style=\"text-align: right;\">\n",
       "      <th></th>\n",
       "      <th>location</th>\n",
       "      <th>latitude</th>\n",
       "      <th>longitude</th>\n",
       "      <th>Team</th>\n",
       "    </tr>\n",
       "  </thead>\n",
       "  <tbody>\n",
       "    <tr>\n",
       "      <th>0</th>\n",
       "      <td>Atlanta, USA</td>\n",
       "      <td>33.748992</td>\n",
       "      <td>-84.390264</td>\n",
       "      <td>Atlanta Hawks</td>\n",
       "    </tr>\n",
       "    <tr>\n",
       "      <th>1</th>\n",
       "      <td>Boston, USA</td>\n",
       "      <td>42.355433</td>\n",
       "      <td>-71.060511</td>\n",
       "      <td>Boston Celtics</td>\n",
       "    </tr>\n",
       "    <tr>\n",
       "      <th>2</th>\n",
       "      <td>Chicago, USA</td>\n",
       "      <td>41.875562</td>\n",
       "      <td>-87.624421</td>\n",
       "      <td>Chicago Bulls</td>\n",
       "    </tr>\n",
       "    <tr>\n",
       "      <th>3</th>\n",
       "      <td>New York, USA</td>\n",
       "      <td>40.712728</td>\n",
       "      <td>-74.006015</td>\n",
       "      <td>Brooklyn Nets</td>\n",
       "    </tr>\n",
       "    <tr>\n",
       "      <th>4</th>\n",
       "      <td>North Carolina, USA</td>\n",
       "      <td>35.672964</td>\n",
       "      <td>-79.039292</td>\n",
       "      <td>Charlotte Hornets</td>\n",
       "    </tr>\n",
       "    <tr>\n",
       "      <th>5</th>\n",
       "      <td>Cleveland, USA</td>\n",
       "      <td>41.499657</td>\n",
       "      <td>-81.693677</td>\n",
       "      <td>Cleveland Cavaliers</td>\n",
       "    </tr>\n",
       "    <tr>\n",
       "      <th>6</th>\n",
       "      <td>Dallas, USA</td>\n",
       "      <td>32.776272</td>\n",
       "      <td>-96.796856</td>\n",
       "      <td>Dallas Mavericks</td>\n",
       "    </tr>\n",
       "    <tr>\n",
       "      <th>7</th>\n",
       "      <td>Denver, USA</td>\n",
       "      <td>39.739236</td>\n",
       "      <td>-104.984862</td>\n",
       "      <td>Denver Nuggets</td>\n",
       "    </tr>\n",
       "    <tr>\n",
       "      <th>8</th>\n",
       "      <td>Detroit, USA</td>\n",
       "      <td>42.331551</td>\n",
       "      <td>-83.046640</td>\n",
       "      <td>Detroit Pistons</td>\n",
       "    </tr>\n",
       "    <tr>\n",
       "      <th>9</th>\n",
       "      <td>Houston, USA</td>\n",
       "      <td>29.758938</td>\n",
       "      <td>-95.367697</td>\n",
       "      <td>Houston Rockets</td>\n",
       "    </tr>\n",
       "    <tr>\n",
       "      <th>10</th>\n",
       "      <td>San Francisco, USA</td>\n",
       "      <td>37.779259</td>\n",
       "      <td>-122.419329</td>\n",
       "      <td>Golden State Warriors</td>\n",
       "    </tr>\n",
       "    <tr>\n",
       "      <th>11</th>\n",
       "      <td>Indianapolis, USA</td>\n",
       "      <td>39.768333</td>\n",
       "      <td>-86.158350</td>\n",
       "      <td>Indiana Pacers</td>\n",
       "    </tr>\n",
       "    <tr>\n",
       "      <th>12</th>\n",
       "      <td>Los Angeles, USA</td>\n",
       "      <td>34.053691</td>\n",
       "      <td>-118.242766</td>\n",
       "      <td>Los Angeles Clippers</td>\n",
       "    </tr>\n",
       "    <tr>\n",
       "      <th>13</th>\n",
       "      <td>Memphis, USA</td>\n",
       "      <td>35.146025</td>\n",
       "      <td>-90.051764</td>\n",
       "      <td>Memphis Grizzlies</td>\n",
       "    </tr>\n",
       "    <tr>\n",
       "      <th>14</th>\n",
       "      <td>New Orleans, USA</td>\n",
       "      <td>29.975998</td>\n",
       "      <td>-90.078213</td>\n",
       "      <td>New Orleans Pelicans</td>\n",
       "    </tr>\n",
       "    <tr>\n",
       "      <th>15</th>\n",
       "      <td>Oklahoma City, USA</td>\n",
       "      <td>35.472989</td>\n",
       "      <td>-97.517054</td>\n",
       "      <td>Oklahoma City Thunder</td>\n",
       "    </tr>\n",
       "    <tr>\n",
       "      <th>16</th>\n",
       "      <td>Orlando, USA</td>\n",
       "      <td>28.542111</td>\n",
       "      <td>-81.379030</td>\n",
       "      <td>Orlando Magic</td>\n",
       "    </tr>\n",
       "    <tr>\n",
       "      <th>17</th>\n",
       "      <td>Philadelphia, USA</td>\n",
       "      <td>39.952724</td>\n",
       "      <td>-75.163526</td>\n",
       "      <td>Philadelphia 76ers</td>\n",
       "    </tr>\n",
       "    <tr>\n",
       "      <th>18</th>\n",
       "      <td>Phoenix, USA</td>\n",
       "      <td>33.448437</td>\n",
       "      <td>-112.074141</td>\n",
       "      <td>Phoenix Suns</td>\n",
       "    </tr>\n",
       "    <tr>\n",
       "      <th>19</th>\n",
       "      <td>Portland, USA</td>\n",
       "      <td>40.922163</td>\n",
       "      <td>-75.097979</td>\n",
       "      <td>Portland Trail Blazers</td>\n",
       "    </tr>\n",
       "    <tr>\n",
       "      <th>20</th>\n",
       "      <td>Sacramento, USA</td>\n",
       "      <td>38.581061</td>\n",
       "      <td>-121.493895</td>\n",
       "      <td>Sacramento Kings</td>\n",
       "    </tr>\n",
       "    <tr>\n",
       "      <th>21</th>\n",
       "      <td>San Antonio, USA</td>\n",
       "      <td>29.424600</td>\n",
       "      <td>-98.495141</td>\n",
       "      <td>San Antonio Spurs</td>\n",
       "    </tr>\n",
       "    <tr>\n",
       "      <th>22</th>\n",
       "      <td>Toronto, Canada</td>\n",
       "      <td>43.653482</td>\n",
       "      <td>-79.383935</td>\n",
       "      <td>Toronto Raptors</td>\n",
       "    </tr>\n",
       "    <tr>\n",
       "      <th>23</th>\n",
       "      <td>Salt Lake City, USA</td>\n",
       "      <td>40.759620</td>\n",
       "      <td>-111.886797</td>\n",
       "      <td>Utah Jazz</td>\n",
       "    </tr>\n",
       "    <tr>\n",
       "      <th>24</th>\n",
       "      <td>Washington, USA</td>\n",
       "      <td>38.895037</td>\n",
       "      <td>-77.036543</td>\n",
       "      <td>Washington Wizards</td>\n",
       "    </tr>\n",
       "    <tr>\n",
       "      <th>25</th>\n",
       "      <td>Miami, USA</td>\n",
       "      <td>25.774173</td>\n",
       "      <td>-80.193620</td>\n",
       "      <td>Miami Heat</td>\n",
       "    </tr>\n",
       "    <tr>\n",
       "      <th>26</th>\n",
       "      <td>Milwaukee, USA</td>\n",
       "      <td>43.038648</td>\n",
       "      <td>-87.909075</td>\n",
       "      <td>Milwaukee Bucks</td>\n",
       "    </tr>\n",
       "    <tr>\n",
       "      <th>27</th>\n",
       "      <td>Minneapolis, USA</td>\n",
       "      <td>44.977300</td>\n",
       "      <td>-93.265469</td>\n",
       "      <td>Minnesota Timberwolves</td>\n",
       "    </tr>\n",
       "    <tr>\n",
       "      <th>28</th>\n",
       "      <td>New Orleans, USA</td>\n",
       "      <td>29.975998</td>\n",
       "      <td>-90.078213</td>\n",
       "      <td>New Orleans Pelicans</td>\n",
       "    </tr>\n",
       "  </tbody>\n",
       "</table>\n",
       "</div>"
      ],
      "text/plain": [
       "               location   latitude   longitude                    Team\n",
       "0          Atlanta, USA  33.748992  -84.390264           Atlanta Hawks\n",
       "1           Boston, USA  42.355433  -71.060511          Boston Celtics\n",
       "2          Chicago, USA  41.875562  -87.624421           Chicago Bulls\n",
       "3         New York, USA  40.712728  -74.006015           Brooklyn Nets\n",
       "4   North Carolina, USA  35.672964  -79.039292       Charlotte Hornets\n",
       "5        Cleveland, USA  41.499657  -81.693677     Cleveland Cavaliers\n",
       "6           Dallas, USA  32.776272  -96.796856        Dallas Mavericks\n",
       "7           Denver, USA  39.739236 -104.984862          Denver Nuggets\n",
       "8          Detroit, USA  42.331551  -83.046640         Detroit Pistons\n",
       "9          Houston, USA  29.758938  -95.367697         Houston Rockets\n",
       "10   San Francisco, USA  37.779259 -122.419329   Golden State Warriors\n",
       "11    Indianapolis, USA  39.768333  -86.158350          Indiana Pacers\n",
       "12     Los Angeles, USA  34.053691 -118.242766    Los Angeles Clippers\n",
       "13         Memphis, USA  35.146025  -90.051764       Memphis Grizzlies\n",
       "14     New Orleans, USA  29.975998  -90.078213    New Orleans Pelicans\n",
       "15   Oklahoma City, USA  35.472989  -97.517054   Oklahoma City Thunder\n",
       "16         Orlando, USA  28.542111  -81.379030           Orlando Magic\n",
       "17    Philadelphia, USA  39.952724  -75.163526      Philadelphia 76ers\n",
       "18         Phoenix, USA  33.448437 -112.074141            Phoenix Suns\n",
       "19        Portland, USA  40.922163  -75.097979  Portland Trail Blazers\n",
       "20      Sacramento, USA  38.581061 -121.493895        Sacramento Kings\n",
       "21     San Antonio, USA  29.424600  -98.495141       San Antonio Spurs\n",
       "22      Toronto, Canada  43.653482  -79.383935         Toronto Raptors\n",
       "23  Salt Lake City, USA  40.759620 -111.886797               Utah Jazz\n",
       "24      Washington, USA  38.895037  -77.036543      Washington Wizards\n",
       "25           Miami, USA  25.774173  -80.193620              Miami Heat\n",
       "26       Milwaukee, USA  43.038648  -87.909075         Milwaukee Bucks\n",
       "27     Minneapolis, USA  44.977300  -93.265469  Minnesota Timberwolves\n",
       "28     New Orleans, USA  29.975998  -90.078213    New Orleans Pelicans"
      ]
     },
     "execution_count": 7,
     "metadata": {},
     "output_type": "execute_result"
    }
   ],
   "source": [
    "team_location = pd.DataFrame(results)\n",
    "team_location['Team'] = ['Atlanta Hawks', 'Boston Celtics', 'Chicago Bulls', 'Brooklyn Nets', 'Charlotte Hornets',\n",
    "                         'Cleveland Cavaliers', 'Dallas Mavericks', 'Denver Nuggets','Detroit Pistons', \n",
    "                         'Houston Rockets', 'Golden State Warriors', 'Indiana Pacers','Los Angeles Clippers', \n",
    "                         'Memphis Grizzlies', 'New Orleans Pelicans', 'Oklahoma City Thunder', 'Orlando Magic',\n",
    "                         'Philadelphia 76ers', 'Phoenix Suns', 'Portland Trail Blazers', 'Sacramento Kings', \n",
    "                         'San Antonio Spurs', 'Toronto Raptors', 'Utah Jazz', 'Washington Wizards', 'Miami Heat',\n",
    "                         'Milwaukee Bucks', 'Minnesota Timberwolves', 'New Orleans Pelicans']\n",
    "team_location"
   ]
  },
  {
   "cell_type": "code",
   "execution_count": 8,
   "metadata": {},
   "outputs": [
    {
     "data": {
      "text/plain": [
       "<Figure size 640x480 with 0 Axes>"
      ]
     },
     "metadata": {},
     "output_type": "display_data"
    },
    {
     "data": {
      "application/vnd.plotly.v1+json": {
       "config": {
        "plotlyServerURL": "https://plot.ly"
       },
       "data": [
        {
         "hovertemplate": "Team=%{text}<br>latitude=%{lat}<br>longitude=%{lon}<extra></extra>",
         "lat": [
          33.7489924,
          42.3554334,
          41.8755616,
          40.7127281,
          35.6729639,
          41.4996574,
          32.7762719,
          39.7392364,
          42.3315509,
          29.7589382,
          37.7792588,
          39.7683331,
          34.0536909,
          35.1460249,
          29.9759983,
          35.4729886,
          28.5421109,
          39.9527237,
          33.4484367,
          40.9221629,
          38.5810606,
          29.4246002,
          43.6534817,
          40.7596198,
          38.8950368,
          25.7741728,
          43.0386475,
          44.9772995,
          29.9759983
         ],
         "legendgroup": "",
         "lon": [
          -84.3902644,
          -71.060511,
          -87.6244212,
          -74.0060152,
          -79.0392919,
          -81.6936772,
          -96.7968559,
          -104.984862,
          -83.0466403,
          -95.3676974,
          -122.4193286,
          -86.1583502,
          -118.242766,
          -90.0517638,
          -90.0782127,
          -97.5170536,
          -81.3790304,
          -75.1635262,
          -112.074141,
          -75.0979793,
          -121.493895,
          -98.4951405,
          -79.3839347,
          -111.886797,
          -77.0365427,
          -80.19362,
          -87.9090751,
          -93.2654692,
          -90.0782127
         ],
         "marker": {
          "color": "red"
         },
         "mode": "markers+text",
         "name": "",
         "showlegend": false,
         "subplot": "mapbox",
         "text": [
          "Atlanta Hawks",
          "Boston Celtics",
          "Chicago Bulls",
          "Brooklyn Nets",
          "Charlotte Hornets",
          "Cleveland Cavaliers",
          "Dallas Mavericks",
          "Denver Nuggets",
          "Detroit Pistons",
          "Houston Rockets",
          "Golden State Warriors",
          "Indiana Pacers",
          "Los Angeles Clippers",
          "Memphis Grizzlies",
          "New Orleans Pelicans",
          "Oklahoma City Thunder",
          "Orlando Magic",
          "Philadelphia 76ers",
          "Phoenix Suns",
          "Portland Trail Blazers",
          "Sacramento Kings",
          "San Antonio Spurs",
          "Toronto Raptors",
          "Utah Jazz",
          "Washington Wizards",
          "Miami Heat",
          "Milwaukee Bucks",
          "Minnesota Timberwolves",
          "New Orleans Pelicans"
         ],
         "type": "scattermapbox"
        }
       ],
       "layout": {
        "legend": {
         "tracegroupgap": 0
        },
        "mapbox": {
         "center": {
          "lat": 39.8283,
          "lon": -98.5795
         },
         "domain": {
          "x": [
           0,
           1
          ],
          "y": [
           0,
           1
          ]
         },
         "style": "open-street-map",
         "zoom": 4
        },
        "margin": {
         "t": 60
        },
        "template": {
         "data": {
          "bar": [
           {
            "error_x": {
             "color": "#2a3f5f"
            },
            "error_y": {
             "color": "#2a3f5f"
            },
            "marker": {
             "line": {
              "color": "#E5ECF6",
              "width": 0.5
             },
             "pattern": {
              "fillmode": "overlay",
              "size": 10,
              "solidity": 0.2
             }
            },
            "type": "bar"
           }
          ],
          "barpolar": [
           {
            "marker": {
             "line": {
              "color": "#E5ECF6",
              "width": 0.5
             },
             "pattern": {
              "fillmode": "overlay",
              "size": 10,
              "solidity": 0.2
             }
            },
            "type": "barpolar"
           }
          ],
          "carpet": [
           {
            "aaxis": {
             "endlinecolor": "#2a3f5f",
             "gridcolor": "white",
             "linecolor": "white",
             "minorgridcolor": "white",
             "startlinecolor": "#2a3f5f"
            },
            "baxis": {
             "endlinecolor": "#2a3f5f",
             "gridcolor": "white",
             "linecolor": "white",
             "minorgridcolor": "white",
             "startlinecolor": "#2a3f5f"
            },
            "type": "carpet"
           }
          ],
          "choropleth": [
           {
            "colorbar": {
             "outlinewidth": 0,
             "ticks": ""
            },
            "type": "choropleth"
           }
          ],
          "contour": [
           {
            "colorbar": {
             "outlinewidth": 0,
             "ticks": ""
            },
            "colorscale": [
             [
              0,
              "#0d0887"
             ],
             [
              0.1111111111111111,
              "#46039f"
             ],
             [
              0.2222222222222222,
              "#7201a8"
             ],
             [
              0.3333333333333333,
              "#9c179e"
             ],
             [
              0.4444444444444444,
              "#bd3786"
             ],
             [
              0.5555555555555556,
              "#d8576b"
             ],
             [
              0.6666666666666666,
              "#ed7953"
             ],
             [
              0.7777777777777778,
              "#fb9f3a"
             ],
             [
              0.8888888888888888,
              "#fdca26"
             ],
             [
              1,
              "#f0f921"
             ]
            ],
            "type": "contour"
           }
          ],
          "contourcarpet": [
           {
            "colorbar": {
             "outlinewidth": 0,
             "ticks": ""
            },
            "type": "contourcarpet"
           }
          ],
          "heatmap": [
           {
            "colorbar": {
             "outlinewidth": 0,
             "ticks": ""
            },
            "colorscale": [
             [
              0,
              "#0d0887"
             ],
             [
              0.1111111111111111,
              "#46039f"
             ],
             [
              0.2222222222222222,
              "#7201a8"
             ],
             [
              0.3333333333333333,
              "#9c179e"
             ],
             [
              0.4444444444444444,
              "#bd3786"
             ],
             [
              0.5555555555555556,
              "#d8576b"
             ],
             [
              0.6666666666666666,
              "#ed7953"
             ],
             [
              0.7777777777777778,
              "#fb9f3a"
             ],
             [
              0.8888888888888888,
              "#fdca26"
             ],
             [
              1,
              "#f0f921"
             ]
            ],
            "type": "heatmap"
           }
          ],
          "heatmapgl": [
           {
            "colorbar": {
             "outlinewidth": 0,
             "ticks": ""
            },
            "colorscale": [
             [
              0,
              "#0d0887"
             ],
             [
              0.1111111111111111,
              "#46039f"
             ],
             [
              0.2222222222222222,
              "#7201a8"
             ],
             [
              0.3333333333333333,
              "#9c179e"
             ],
             [
              0.4444444444444444,
              "#bd3786"
             ],
             [
              0.5555555555555556,
              "#d8576b"
             ],
             [
              0.6666666666666666,
              "#ed7953"
             ],
             [
              0.7777777777777778,
              "#fb9f3a"
             ],
             [
              0.8888888888888888,
              "#fdca26"
             ],
             [
              1,
              "#f0f921"
             ]
            ],
            "type": "heatmapgl"
           }
          ],
          "histogram": [
           {
            "marker": {
             "pattern": {
              "fillmode": "overlay",
              "size": 10,
              "solidity": 0.2
             }
            },
            "type": "histogram"
           }
          ],
          "histogram2d": [
           {
            "colorbar": {
             "outlinewidth": 0,
             "ticks": ""
            },
            "colorscale": [
             [
              0,
              "#0d0887"
             ],
             [
              0.1111111111111111,
              "#46039f"
             ],
             [
              0.2222222222222222,
              "#7201a8"
             ],
             [
              0.3333333333333333,
              "#9c179e"
             ],
             [
              0.4444444444444444,
              "#bd3786"
             ],
             [
              0.5555555555555556,
              "#d8576b"
             ],
             [
              0.6666666666666666,
              "#ed7953"
             ],
             [
              0.7777777777777778,
              "#fb9f3a"
             ],
             [
              0.8888888888888888,
              "#fdca26"
             ],
             [
              1,
              "#f0f921"
             ]
            ],
            "type": "histogram2d"
           }
          ],
          "histogram2dcontour": [
           {
            "colorbar": {
             "outlinewidth": 0,
             "ticks": ""
            },
            "colorscale": [
             [
              0,
              "#0d0887"
             ],
             [
              0.1111111111111111,
              "#46039f"
             ],
             [
              0.2222222222222222,
              "#7201a8"
             ],
             [
              0.3333333333333333,
              "#9c179e"
             ],
             [
              0.4444444444444444,
              "#bd3786"
             ],
             [
              0.5555555555555556,
              "#d8576b"
             ],
             [
              0.6666666666666666,
              "#ed7953"
             ],
             [
              0.7777777777777778,
              "#fb9f3a"
             ],
             [
              0.8888888888888888,
              "#fdca26"
             ],
             [
              1,
              "#f0f921"
             ]
            ],
            "type": "histogram2dcontour"
           }
          ],
          "mesh3d": [
           {
            "colorbar": {
             "outlinewidth": 0,
             "ticks": ""
            },
            "type": "mesh3d"
           }
          ],
          "parcoords": [
           {
            "line": {
             "colorbar": {
              "outlinewidth": 0,
              "ticks": ""
             }
            },
            "type": "parcoords"
           }
          ],
          "pie": [
           {
            "automargin": true,
            "type": "pie"
           }
          ],
          "scatter": [
           {
            "fillpattern": {
             "fillmode": "overlay",
             "size": 10,
             "solidity": 0.2
            },
            "type": "scatter"
           }
          ],
          "scatter3d": [
           {
            "line": {
             "colorbar": {
              "outlinewidth": 0,
              "ticks": ""
             }
            },
            "marker": {
             "colorbar": {
              "outlinewidth": 0,
              "ticks": ""
             }
            },
            "type": "scatter3d"
           }
          ],
          "scattercarpet": [
           {
            "marker": {
             "colorbar": {
              "outlinewidth": 0,
              "ticks": ""
             }
            },
            "type": "scattercarpet"
           }
          ],
          "scattergeo": [
           {
            "marker": {
             "colorbar": {
              "outlinewidth": 0,
              "ticks": ""
             }
            },
            "type": "scattergeo"
           }
          ],
          "scattergl": [
           {
            "marker": {
             "colorbar": {
              "outlinewidth": 0,
              "ticks": ""
             }
            },
            "type": "scattergl"
           }
          ],
          "scattermapbox": [
           {
            "marker": {
             "colorbar": {
              "outlinewidth": 0,
              "ticks": ""
             }
            },
            "type": "scattermapbox"
           }
          ],
          "scatterpolar": [
           {
            "marker": {
             "colorbar": {
              "outlinewidth": 0,
              "ticks": ""
             }
            },
            "type": "scatterpolar"
           }
          ],
          "scatterpolargl": [
           {
            "marker": {
             "colorbar": {
              "outlinewidth": 0,
              "ticks": ""
             }
            },
            "type": "scatterpolargl"
           }
          ],
          "scatterternary": [
           {
            "marker": {
             "colorbar": {
              "outlinewidth": 0,
              "ticks": ""
             }
            },
            "type": "scatterternary"
           }
          ],
          "surface": [
           {
            "colorbar": {
             "outlinewidth": 0,
             "ticks": ""
            },
            "colorscale": [
             [
              0,
              "#0d0887"
             ],
             [
              0.1111111111111111,
              "#46039f"
             ],
             [
              0.2222222222222222,
              "#7201a8"
             ],
             [
              0.3333333333333333,
              "#9c179e"
             ],
             [
              0.4444444444444444,
              "#bd3786"
             ],
             [
              0.5555555555555556,
              "#d8576b"
             ],
             [
              0.6666666666666666,
              "#ed7953"
             ],
             [
              0.7777777777777778,
              "#fb9f3a"
             ],
             [
              0.8888888888888888,
              "#fdca26"
             ],
             [
              1,
              "#f0f921"
             ]
            ],
            "type": "surface"
           }
          ],
          "table": [
           {
            "cells": {
             "fill": {
              "color": "#EBF0F8"
             },
             "line": {
              "color": "white"
             }
            },
            "header": {
             "fill": {
              "color": "#C8D4E3"
             },
             "line": {
              "color": "white"
             }
            },
            "type": "table"
           }
          ]
         },
         "layout": {
          "annotationdefaults": {
           "arrowcolor": "#2a3f5f",
           "arrowhead": 0,
           "arrowwidth": 1
          },
          "autotypenumbers": "strict",
          "coloraxis": {
           "colorbar": {
            "outlinewidth": 0,
            "ticks": ""
           }
          },
          "colorscale": {
           "diverging": [
            [
             0,
             "#8e0152"
            ],
            [
             0.1,
             "#c51b7d"
            ],
            [
             0.2,
             "#de77ae"
            ],
            [
             0.3,
             "#f1b6da"
            ],
            [
             0.4,
             "#fde0ef"
            ],
            [
             0.5,
             "#f7f7f7"
            ],
            [
             0.6,
             "#e6f5d0"
            ],
            [
             0.7,
             "#b8e186"
            ],
            [
             0.8,
             "#7fbc41"
            ],
            [
             0.9,
             "#4d9221"
            ],
            [
             1,
             "#276419"
            ]
           ],
           "sequential": [
            [
             0,
             "#0d0887"
            ],
            [
             0.1111111111111111,
             "#46039f"
            ],
            [
             0.2222222222222222,
             "#7201a8"
            ],
            [
             0.3333333333333333,
             "#9c179e"
            ],
            [
             0.4444444444444444,
             "#bd3786"
            ],
            [
             0.5555555555555556,
             "#d8576b"
            ],
            [
             0.6666666666666666,
             "#ed7953"
            ],
            [
             0.7777777777777778,
             "#fb9f3a"
            ],
            [
             0.8888888888888888,
             "#fdca26"
            ],
            [
             1,
             "#f0f921"
            ]
           ],
           "sequentialminus": [
            [
             0,
             "#0d0887"
            ],
            [
             0.1111111111111111,
             "#46039f"
            ],
            [
             0.2222222222222222,
             "#7201a8"
            ],
            [
             0.3333333333333333,
             "#9c179e"
            ],
            [
             0.4444444444444444,
             "#bd3786"
            ],
            [
             0.5555555555555556,
             "#d8576b"
            ],
            [
             0.6666666666666666,
             "#ed7953"
            ],
            [
             0.7777777777777778,
             "#fb9f3a"
            ],
            [
             0.8888888888888888,
             "#fdca26"
            ],
            [
             1,
             "#f0f921"
            ]
           ]
          },
          "colorway": [
           "#636efa",
           "#EF553B",
           "#00cc96",
           "#ab63fa",
           "#FFA15A",
           "#19d3f3",
           "#FF6692",
           "#B6E880",
           "#FF97FF",
           "#FECB52"
          ],
          "font": {
           "color": "#2a3f5f"
          },
          "geo": {
           "bgcolor": "white",
           "lakecolor": "white",
           "landcolor": "#E5ECF6",
           "showlakes": true,
           "showland": true,
           "subunitcolor": "white"
          },
          "hoverlabel": {
           "align": "left"
          },
          "hovermode": "closest",
          "mapbox": {
           "style": "light"
          },
          "paper_bgcolor": "white",
          "plot_bgcolor": "#E5ECF6",
          "polar": {
           "angularaxis": {
            "gridcolor": "white",
            "linecolor": "white",
            "ticks": ""
           },
           "bgcolor": "#E5ECF6",
           "radialaxis": {
            "gridcolor": "white",
            "linecolor": "white",
            "ticks": ""
           }
          },
          "scene": {
           "xaxis": {
            "backgroundcolor": "#E5ECF6",
            "gridcolor": "white",
            "gridwidth": 2,
            "linecolor": "white",
            "showbackground": true,
            "ticks": "",
            "zerolinecolor": "white"
           },
           "yaxis": {
            "backgroundcolor": "#E5ECF6",
            "gridcolor": "white",
            "gridwidth": 2,
            "linecolor": "white",
            "showbackground": true,
            "ticks": "",
            "zerolinecolor": "white"
           },
           "zaxis": {
            "backgroundcolor": "#E5ECF6",
            "gridcolor": "white",
            "gridwidth": 2,
            "linecolor": "white",
            "showbackground": true,
            "ticks": "",
            "zerolinecolor": "white"
           }
          },
          "shapedefaults": {
           "line": {
            "color": "#2a3f5f"
           }
          },
          "ternary": {
           "aaxis": {
            "gridcolor": "white",
            "linecolor": "white",
            "ticks": ""
           },
           "baxis": {
            "gridcolor": "white",
            "linecolor": "white",
            "ticks": ""
           },
           "bgcolor": "#E5ECF6",
           "caxis": {
            "gridcolor": "white",
            "linecolor": "white",
            "ticks": ""
           }
          },
          "title": {
           "x": 0.05
          },
          "xaxis": {
           "automargin": true,
           "gridcolor": "white",
           "linecolor": "white",
           "ticks": "",
           "title": {
            "standoff": 15
           },
           "zerolinecolor": "white",
           "zerolinewidth": 2
          },
          "yaxis": {
           "automargin": true,
           "gridcolor": "white",
           "linecolor": "white",
           "ticks": "",
           "title": {
            "standoff": 15
           },
           "zerolinecolor": "white",
           "zerolinewidth": 2
          }
         }
        },
        "title": {
         "text": "NBA Teams"
        }
       }
      }
     },
     "metadata": {},
     "output_type": "display_data"
    }
   ],
   "source": [
    "fig = px.scatter_mapbox(\n",
    "    team_location,\n",
    "    lat=\"latitude\",\n",
    "    lon=\"longitude\",\n",
    "    text= \"Team\",\n",
    "    color_discrete_sequence=[\"red\"],  # Marker color\n",
    "    size_max=20,  # Maximum size of markers\n",
    "    mapbox_style=\"open-street-map\",\n",
    "    zoom=4,\n",
    "    center={\"lat\": 39.8283, \"lon\": -98.5795}\n",
    ")\n",
    "\n",
    "# Update layout\n",
    "fig.update_layout(title='NBA Teams')\n",
    "\n",
    "# Saving the map\n",
    "\n",
    "plt.savefig(\"nba_teams_map.png\")\n",
    "plt.show()\n",
    "# Show the plot\n",
    "fig.show()"
   ]
  },
  {
   "cell_type": "markdown",
   "metadata": {},
   "source": [
    "# Analysis based on questions"
   ]
  },
  {
   "cell_type": "markdown",
   "metadata": {},
   "source": [
    "## Question 1: What is the difference in performance of the top 5 players in Regular season?"
   ]
  },
  {
   "cell_type": "code",
   "execution_count": 9,
   "metadata": {},
   "outputs": [
    {
     "data": {
      "image/png": "[encoded data removed]",
      "text/plain": [
       "<Figure size 640x480 with 1 Axes>"
      ]
     },
     "metadata": {},
     "output_type": "display_data"
    }
   ],
   "source": [
    "\n",
    "# Show the comparison.  \n",
    "\n",
    "# Finding the players with number 1 rank in the nba_dataset\n",
    "ranks= nba_df.loc[nba_df[\"Rank\"]==1]\n",
    "\n",
    "# Choosing 5 random players from ranks.\n",
    " \n",
    "top_5= [\"LeBron James\", \"Kevin Durrant\", \"Stephen Curry\", \"Giannis Antetokounmpo\", \"Nikola Jokic\"]\n",
    "\n",
    "# 3 offensive metrics (Points, AST, FGA) AND 3 defensive metrics (REB,STL,BLK)\n",
    "performance_metrics= [\"PTS\", \"AST\", \"FGA\", \"REB\", \"STL\", \"BLK\"]\n",
    "\n",
    "# REGULAR SEASON CALCULATION FOR TOP 5 PLAYERS \n",
    "\n",
    "# We look up each players 5 performance metrics as mentioned above. Then calculated the horizontal average across those 6 columns\n",
    "# and created a new column to store that calculation with the column name of Average Stats.\n",
    "\n",
    "LeBron_James = reg_season_df.loc[reg_season_df['Player'] == 'LeBron James', [\"Points\", \"AST\", \"FGA\", \"REB\", \"STL\", \"BLK\", \"Minutes Played\"]]\n",
    "LeBron_James['Average Stats'] = LeBron_James[[\"Points\", \"AST\", \"FGA\", \"REB\", \"STL\", \"BLK\"]].mean(axis=1)\n",
    "leb= LeBron_James[\"Average Stats\"].mean()\n",
    "\n",
    "Kevin_Durrant = reg_season_df.loc[reg_season_df['Player'] == 'Kevin Durant', [\"Points\", \"AST\", \"FGA\", \"REB\", \"STL\", \"BLK\", \"Minutes Played\"]]\n",
    "Kevin_Durrant['Average Stats'] = Kevin_Durrant[[\"Points\", \"AST\", \"FGA\", \"REB\", \"STL\", \"BLK\"]].mean(axis=1)\n",
    "kev= Kevin_Durrant[\"Average Stats\"].mean()\n",
    "\n",
    "stephen_curry = reg_season_df.loc[reg_season_df['Player'] == 'Stephen Curry', [\"Points\", \"AST\", \"FGA\", \"REB\", \"STL\", \"BLK\", \"Minutes Played\"]]\n",
    "stephen_curry['Average Stats'] = stephen_curry[[\"Points\", \"AST\", \"FGA\", \"REB\", \"STL\", \"BLK\"]].mean(axis=1)\n",
    "steph= stephen_curry[\"Average Stats\"].mean()\n",
    "\n",
    "Giannis_Antetokounmpo = reg_season_df.loc[reg_season_df['Player'] == 'Giannis Antetokounmpo', [\"Points\", \"AST\", \"FGA\", \"REB\", \"STL\", \"BLK\", \"Minutes Played\"]]\n",
    "Giannis_Antetokounmpo['Average Stats'] = Giannis_Antetokounmpo[[\"Points\", \"AST\", \"FGA\", \"REB\", \"STL\", \"BLK\"]].mean(axis=1)\n",
    "gian= Giannis_Antetokounmpo[\"Average Stats\"].mean()\n",
    "\n",
    "Nikola_Jokic = reg_season_df.loc[reg_season_df['Player'] == 'Nikola Jokic', [\"Points\", \"AST\", \"FGA\", \"REB\", \"STL\", \"BLK\", \"Minutes Played\"]]\n",
    "Nikola_Jokic['Average Stats'] = Nikola_Jokic[[\"Points\", \"AST\", \"FGA\", \"REB\", \"STL\", \"BLK\"]].mean(axis=1)\n",
    "nik= Nikola_Jokic[\"Average Stats\"].mean()\n",
    "\n",
    "performance_regular= [leb,kev,steph,gian,nik]\n",
    "explode= [0.1,0,0,0,0]\n",
    "plt.pie(performance_regular, explode=explode, labels=top_5,\n",
    "        autopct=\"%1.0f%%\", shadow=True, startangle=140)\n",
    "plt.axis('equal')\n",
    "plt.title(\"Regular Season Performance\")\n",
    "plt.savefig(\"Regular_Season_Performance_Top5.png\")\n",
    "plt.show()"
   ]
  },
  {
   "cell_type": "markdown",
   "metadata": {},
   "source": [
    "## Question 2: What is the difference in performance of the top 5 players in Playoffs season?"
   ]
  },
  {
   "cell_type": "code",
   "execution_count": 10,
   "metadata": {},
   "outputs": [
    {
     "data": {
      "image/png": "[encoded data removed]",
      "text/plain": [
       "<Figure size 640x480 with 1 Axes>"
      ]
     },
     "metadata": {},
     "output_type": "display_data"
    }
   ],
   "source": [
    "# Show the comparison.  \n",
    "\n",
    "# Finding the players with number 1 rank in the nba_dataset\n",
    "ranks= nba_df.loc[nba_df[\"Rank\"]==1]\n",
    "\n",
    "# Choosing 5 random players from ranks.\n",
    " \n",
    "top_5= [\"LeBron James\", \"Kevin Durrant\", \"Stephen Curry\", \"Giannis Antetokounmpo\", \"Nikola Jokic\"]\n",
    "\n",
    "# 3 offensive metrics (Points, AST, FGA) AND 3 defensive metrics (REB,STL,BLK)\n",
    "performance_metrics= [\"PTS\", \"AST\", \"FGA\", \"REB\", \"STL\", \"BLK\"]\n",
    "\n",
    "# PLAYOFFS SEASON CALCULATION FOR TOP 5 PLAYERS \n",
    "# We look up each players 5 performance metrics as mentioned above. Then calculated the horizontal average across those 6 columns\n",
    "# and created a new column to store that calculation with the name of Average Stats. \n",
    "\n",
    "LeBron_James = playoffs_df.loc[playoffs_df['Player'] == 'LeBron James', [\"Points\", \"AST\", \"FGA\", \"REB\", \"STL\", \"BLK\", \"Minutes Played\"]]\n",
    "LeBron_James['Average Stats'] = LeBron_James[[\"Points\", \"AST\", \"FGA\", \"REB\", \"STL\", \"BLK\"]].mean(axis=1)\n",
    "lebron= LeBron_James['Average Stats'].mean()\n",
    "\n",
    "Kevin_Durrant = playoffs_df.loc[playoffs_df['Player'] == 'Kevin Durant', [\"Points\", \"AST\", \"FGA\", \"REB\", \"STL\", \"BLK\", \"Minutes Played\"]]\n",
    "Kevin_Durrant['Average Stats'] = Kevin_Durrant[[\"Points\", \"AST\", \"FGA\", \"REB\", \"STL\", \"BLK\"]].mean(axis=1)\n",
    "kevin= Kevin_Durrant['Average Stats'].mean()\n",
    "\n",
    "\n",
    "stephen_curry = playoffs_df.loc[playoffs_df['Player'] == 'Stephen Curry', [\"Points\", \"AST\", \"FGA\", \"REB\", \"STL\", \"BLK\", \"Minutes Played\"]]\n",
    "stephen_curry['Average Stats'] = stephen_curry[[\"Points\", \"AST\", \"FGA\", \"REB\", \"STL\", \"BLK\"]].mean(axis=1)\n",
    "curry= stephen_curry['Average Stats'].mean()\n",
    "\n",
    "Giannis_Antetokounmpo = playoffs_df.loc[playoffs_df['Player'] == 'Giannis Antetokounmpo', [\"Points\", \"AST\", \"FGA\", \"REB\", \"STL\", \"BLK\", \"Minutes Played\"]]\n",
    "Giannis_Antetokounmpo['Average Stats'] = Giannis_Antetokounmpo[[\"Points\", \"AST\", \"FGA\", \"REB\", \"STL\", \"BLK\"]].mean(axis=1)\n",
    "giannis= Giannis_Antetokounmpo['Average Stats'].mean()\n",
    "\n",
    "\n",
    "Nikola_Jokic =playoffs_df.loc[playoffs_df['Player'] == 'Nikola Jokic', [\"Points\", \"AST\", \"FGA\", \"REB\", \"STL\", \"BLK\", \"Minutes Played\"]]\n",
    "Nikola_Jokic['Average Stats'] = Nikola_Jokic[[\"Points\", \"AST\", \"FGA\", \"REB\", \"STL\", \"BLK\"]].mean(axis=1)\n",
    "nikola= Nikola_Jokic['Average Stats'].mean()\n",
    "\n",
    "performance= [lebron, kevin, curry, giannis, nikola]\n",
    "explode= [0.1,0,0,0,0]\n",
    "\n",
    "plt.pie(performance, explode=explode, labels=top_5,\n",
    "        autopct=\"%1.0f%%\", shadow=True, startangle=140)\n",
    "plt.axis('equal')\n",
    "plt.title(\"Playoff Season Performance\")\n",
    "plt.savefig(\"Playoff_Season_Performance_Top5.png\")\n",
    "plt.show()\n"
   ]
  },
  {
   "cell_type": "markdown",
   "metadata": {},
   "source": [
    "## Question 3 Analysis: Is there a correlation between the Efficiency of a player and points scored."
   ]
  },
  {
   "cell_type": "code",
   "execution_count": 11,
   "metadata": {},
   "outputs": [
    {
     "data": {
      "image/png": "[encoded data removed]",
      "text/plain": [
       "<Figure size 800x400 with 1 Axes>"
      ]
     },
     "metadata": {},
     "output_type": "display_data"
    },
    {
     "name": "stdout",
     "output_type": "stream",
     "text": [
      "The Correlation Coefficient of Efficiency vs Points Scored is: 0.96\n",
      "The p-value is: 0.0\n"
     ]
    }
   ],
   "source": [
    "# Select the variables: Efficiency (EFF) and Points (PTS)\n",
    "x_eff = nba_df['EFF']\n",
    "y_pts = nba_df['Points']\n",
    "\n",
    "# Calculate the correlation coefficient for Efficiency and Points\n",
    "correlation_coefficient_eff_pts = np.corrcoef(x_eff, y_pts)[0, 1]\n",
    "\n",
    "# Perform linear regression using scipy\n",
    "slope_eff_pts, intercept_eff_pts, r_value_eff_pts, p_value_eff_pts, std_err_eff_pts = st.linregress(x_eff, y_pts)\n",
    "\n",
    "# Create the regression line\n",
    "regression_line_eff_pts = slope_eff_pts * x_eff + intercept_eff_pts\n",
    "\n",
    "# Plot the scatter plot and regression line\n",
    "plt.figure(figsize=(8, 4))\n",
    "plt.scatter(x_eff, y_pts, label='Data Points', alpha=0.5)\n",
    "plt.plot(x_eff, regression_line_eff_pts, color='red', label=f'Regression Line\\n$y={slope_eff_pts:.2f}x+{intercept_eff_pts:.2f}$')\n",
    "plt.title('Efficiency vs Points Scored')\n",
    "plt.xlabel('Efficiency (EFF)')\n",
    "plt.ylabel('Points Scored (PTS)')\n",
    "plt.legend()\n",
    "plt.grid(True)\n",
    "\n",
    "# Display the correlation coefficient on the plot\n",
    "plt.text(500, 500, f'Correlation Coefficient: {correlation_coefficient_eff_pts:.2f}', fontsize=12, color='blue')\n",
    "\n",
    "# Show the plot\n",
    "plt.savefig(\"Efficiency_vs_Points.png\")\n",
    "plt.show()\n",
    "\n",
    "print(f\"The Correlation Coefficient of Efficiency vs Points Scored is: {round(correlation_coefficient_eff_pts,2)}\")\n",
    "print(f'The p-value is: {p_value_eff_pts}')"
   ]
  },
  {
   "cell_type": "markdown",
   "metadata": {},
   "source": [
    "## Question 4: Who are the most improved players over the last 10 years? "
   ]
  },
  {
   "cell_type": "code",
   "execution_count": 12,
   "metadata": {},
   "outputs": [
    {
     "data": {
      "text/html": [
       "<div>\n",
       "<style scoped>\n",
       "    .dataframe tbody tr th:only-of-type {\n",
       "        vertical-align: middle;\n",
       "    }\n",
       "\n",
       "    .dataframe tbody tr th {\n",
       "        vertical-align: top;\n",
       "    }\n",
       "\n",
       "    .dataframe thead th {\n",
       "        text-align: right;\n",
       "    }\n",
       "</style>\n",
       "<table border=\"1\" class=\"dataframe\">\n",
       "  <thead>\n",
       "    <tr style=\"text-align: right;\">\n",
       "      <th></th>\n",
       "      <th>Year</th>\n",
       "      <th>Season_type</th>\n",
       "      <th>Player_ID</th>\n",
       "      <th>Player</th>\n",
       "      <th>Team</th>\n",
       "      <th>Minutes Played</th>\n",
       "      <th>Points</th>\n",
       "    </tr>\n",
       "  </thead>\n",
       "  <tbody>\n",
       "    <tr>\n",
       "      <th>0</th>\n",
       "      <td>2012-13</td>\n",
       "      <td>Regular</td>\n",
       "      <td>201142</td>\n",
       "      <td>Kevin Durant</td>\n",
       "      <td>OKC</td>\n",
       "      <td>3119</td>\n",
       "      <td>2280</td>\n",
       "    </tr>\n",
       "    <tr>\n",
       "      <th>1</th>\n",
       "      <td>2012-13</td>\n",
       "      <td>Regular</td>\n",
       "      <td>977</td>\n",
       "      <td>Kobe Bryant</td>\n",
       "      <td>LAL</td>\n",
       "      <td>3013</td>\n",
       "      <td>2133</td>\n",
       "    </tr>\n",
       "    <tr>\n",
       "      <th>2</th>\n",
       "      <td>2012-13</td>\n",
       "      <td>Regular</td>\n",
       "      <td>2544</td>\n",
       "      <td>LeBron James</td>\n",
       "      <td>MIA</td>\n",
       "      <td>2877</td>\n",
       "      <td>2036</td>\n",
       "    </tr>\n",
       "    <tr>\n",
       "      <th>3</th>\n",
       "      <td>2012-13</td>\n",
       "      <td>Regular</td>\n",
       "      <td>201935</td>\n",
       "      <td>James Harden</td>\n",
       "      <td>HOU</td>\n",
       "      <td>2985</td>\n",
       "      <td>2023</td>\n",
       "    </tr>\n",
       "    <tr>\n",
       "      <th>4</th>\n",
       "      <td>2012-13</td>\n",
       "      <td>Regular</td>\n",
       "      <td>2546</td>\n",
       "      <td>Carmelo Anthony</td>\n",
       "      <td>NYK</td>\n",
       "      <td>2482</td>\n",
       "      <td>1920</td>\n",
       "    </tr>\n",
       "    <tr>\n",
       "      <th>...</th>\n",
       "      <td>...</td>\n",
       "      <td>...</td>\n",
       "      <td>...</td>\n",
       "      <td>...</td>\n",
       "      <td>...</td>\n",
       "      <td>...</td>\n",
       "      <td>...</td>\n",
       "    </tr>\n",
       "    <tr>\n",
       "      <th>8830</th>\n",
       "      <td>2023-24</td>\n",
       "      <td>Playoffs</td>\n",
       "      <td>1641765</td>\n",
       "      <td>Olivier-Maxence Prosper</td>\n",
       "      <td>DAL</td>\n",
       "      <td>9</td>\n",
       "      <td>0</td>\n",
       "    </tr>\n",
       "    <tr>\n",
       "      <th>8831</th>\n",
       "      <td>2023-24</td>\n",
       "      <td>Playoffs</td>\n",
       "      <td>1631115</td>\n",
       "      <td>Orlando Robinson</td>\n",
       "      <td>MIA</td>\n",
       "      <td>2</td>\n",
       "      <td>0</td>\n",
       "    </tr>\n",
       "    <tr>\n",
       "      <th>8832</th>\n",
       "      <td>2023-24</td>\n",
       "      <td>Playoffs</td>\n",
       "      <td>203933</td>\n",
       "      <td>T.J. Warren</td>\n",
       "      <td>MIN</td>\n",
       "      <td>11</td>\n",
       "      <td>0</td>\n",
       "    </tr>\n",
       "    <tr>\n",
       "      <th>8833</th>\n",
       "      <td>2023-24</td>\n",
       "      <td>Playoffs</td>\n",
       "      <td>201152</td>\n",
       "      <td>Thaddeus Young</td>\n",
       "      <td>PHX</td>\n",
       "      <td>4</td>\n",
       "      <td>0</td>\n",
       "    </tr>\n",
       "    <tr>\n",
       "      <th>8834</th>\n",
       "      <td>2023-24</td>\n",
       "      <td>Playoffs</td>\n",
       "      <td>203648</td>\n",
       "      <td>Thanasis Antetokounmpo</td>\n",
       "      <td>MIL</td>\n",
       "      <td>5</td>\n",
       "      <td>0</td>\n",
       "    </tr>\n",
       "  </tbody>\n",
       "</table>\n",
       "<p>8835 rows × 7 columns</p>\n",
       "</div>"
      ],
      "text/plain": [
       "         Year Season_type  Player_ID                   Player Team  \\\n",
       "0     2012-13     Regular     201142             Kevin Durant  OKC   \n",
       "1     2012-13     Regular        977              Kobe Bryant  LAL   \n",
       "2     2012-13     Regular       2544             LeBron James  MIA   \n",
       "3     2012-13     Regular     201935             James Harden  HOU   \n",
       "4     2012-13     Regular       2546          Carmelo Anthony  NYK   \n",
       "...       ...         ...        ...                      ...  ...   \n",
       "8830  2023-24    Playoffs    1641765  Olivier-Maxence Prosper  DAL   \n",
       "8831  2023-24    Playoffs    1631115         Orlando Robinson  MIA   \n",
       "8832  2023-24    Playoffs     203933              T.J. Warren  MIN   \n",
       "8833  2023-24    Playoffs     201152           Thaddeus Young  PHX   \n",
       "8834  2023-24    Playoffs     203648   Thanasis Antetokounmpo  MIL   \n",
       "\n",
       "      Minutes Played  Points  \n",
       "0               3119    2280  \n",
       "1               3013    2133  \n",
       "2               2877    2036  \n",
       "3               2985    2023  \n",
       "4               2482    1920  \n",
       "...              ...     ...  \n",
       "8830               9       0  \n",
       "8831               2       0  \n",
       "8832              11       0  \n",
       "8833               4       0  \n",
       "8834               5       0  \n",
       "\n",
       "[8835 rows x 7 columns]"
      ]
     },
     "execution_count": 12,
     "metadata": {},
     "output_type": "execute_result"
    }
   ],
   "source": [
    "# Selecting columns needed\n",
    "\n",
    "columns_to_keep = [\"Year\", \"Season_type\" , \"Player_ID\", \"Player\", \"Team\", \"Minutes Played\", \"Points\"]\n",
    "\n",
    "# Use column indexing\n",
    "best_player_df = nba_df[columns_to_keep]\n",
    "best_player_df"
   ]
  },
  {
   "cell_type": "code",
   "execution_count": 13,
   "metadata": {},
   "outputs": [
    {
     "name": "stderr",
     "output_type": "stream",
     "text": [
      "C:\\Users\\Koi Vi\\AppData\\Local\\Temp\\ipykernel_30980\\1994216274.py:3: SettingWithCopyWarning:\n",
      "\n",
      "\n",
      "A value is trying to be set on a copy of a slice from a DataFrame.\n",
      "Try using .loc[row_indexer,col_indexer] = value instead\n",
      "\n",
      "See the caveats in the documentation: https://pandas.pydata.org/pandas-docs/stable/user_guide/indexing.html#returning-a-view-versus-a-copy\n",
      "\n"
     ]
    },
    {
     "data": {
      "text/html": [
       "<div>\n",
       "<style scoped>\n",
       "    .dataframe tbody tr th:only-of-type {\n",
       "        vertical-align: middle;\n",
       "    }\n",
       "\n",
       "    .dataframe tbody tr th {\n",
       "        vertical-align: top;\n",
       "    }\n",
       "\n",
       "    .dataframe thead th {\n",
       "        text-align: right;\n",
       "    }\n",
       "</style>\n",
       "<table border=\"1\" class=\"dataframe\">\n",
       "  <thead>\n",
       "    <tr style=\"text-align: right;\">\n",
       "      <th></th>\n",
       "      <th>Year</th>\n",
       "      <th>Season_type</th>\n",
       "      <th>Player_ID</th>\n",
       "      <th>Player</th>\n",
       "      <th>Team</th>\n",
       "      <th>Minutes Played</th>\n",
       "      <th>Points</th>\n",
       "      <th>Points Per Min</th>\n",
       "    </tr>\n",
       "  </thead>\n",
       "  <tbody>\n",
       "    <tr>\n",
       "      <th>0</th>\n",
       "      <td>2012-13</td>\n",
       "      <td>Regular</td>\n",
       "      <td>201142</td>\n",
       "      <td>Kevin Durant</td>\n",
       "      <td>OKC</td>\n",
       "      <td>3119</td>\n",
       "      <td>2280</td>\n",
       "      <td>0.731004</td>\n",
       "    </tr>\n",
       "    <tr>\n",
       "      <th>1</th>\n",
       "      <td>2012-13</td>\n",
       "      <td>Regular</td>\n",
       "      <td>977</td>\n",
       "      <td>Kobe Bryant</td>\n",
       "      <td>LAL</td>\n",
       "      <td>3013</td>\n",
       "      <td>2133</td>\n",
       "      <td>0.707932</td>\n",
       "    </tr>\n",
       "    <tr>\n",
       "      <th>2</th>\n",
       "      <td>2012-13</td>\n",
       "      <td>Regular</td>\n",
       "      <td>2544</td>\n",
       "      <td>LeBron James</td>\n",
       "      <td>MIA</td>\n",
       "      <td>2877</td>\n",
       "      <td>2036</td>\n",
       "      <td>0.707682</td>\n",
       "    </tr>\n",
       "    <tr>\n",
       "      <th>3</th>\n",
       "      <td>2012-13</td>\n",
       "      <td>Regular</td>\n",
       "      <td>201935</td>\n",
       "      <td>James Harden</td>\n",
       "      <td>HOU</td>\n",
       "      <td>2985</td>\n",
       "      <td>2023</td>\n",
       "      <td>0.677722</td>\n",
       "    </tr>\n",
       "    <tr>\n",
       "      <th>4</th>\n",
       "      <td>2012-13</td>\n",
       "      <td>Regular</td>\n",
       "      <td>2546</td>\n",
       "      <td>Carmelo Anthony</td>\n",
       "      <td>NYK</td>\n",
       "      <td>2482</td>\n",
       "      <td>1920</td>\n",
       "      <td>0.773570</td>\n",
       "    </tr>\n",
       "    <tr>\n",
       "      <th>...</th>\n",
       "      <td>...</td>\n",
       "      <td>...</td>\n",
       "      <td>...</td>\n",
       "      <td>...</td>\n",
       "      <td>...</td>\n",
       "      <td>...</td>\n",
       "      <td>...</td>\n",
       "      <td>...</td>\n",
       "    </tr>\n",
       "    <tr>\n",
       "      <th>8830</th>\n",
       "      <td>2023-24</td>\n",
       "      <td>Playoffs</td>\n",
       "      <td>1641765</td>\n",
       "      <td>Olivier-Maxence Prosper</td>\n",
       "      <td>DAL</td>\n",
       "      <td>9</td>\n",
       "      <td>0</td>\n",
       "      <td>0.000000</td>\n",
       "    </tr>\n",
       "    <tr>\n",
       "      <th>8831</th>\n",
       "      <td>2023-24</td>\n",
       "      <td>Playoffs</td>\n",
       "      <td>1631115</td>\n",
       "      <td>Orlando Robinson</td>\n",
       "      <td>MIA</td>\n",
       "      <td>2</td>\n",
       "      <td>0</td>\n",
       "      <td>0.000000</td>\n",
       "    </tr>\n",
       "    <tr>\n",
       "      <th>8832</th>\n",
       "      <td>2023-24</td>\n",
       "      <td>Playoffs</td>\n",
       "      <td>203933</td>\n",
       "      <td>T.J. Warren</td>\n",
       "      <td>MIN</td>\n",
       "      <td>11</td>\n",
       "      <td>0</td>\n",
       "      <td>0.000000</td>\n",
       "    </tr>\n",
       "    <tr>\n",
       "      <th>8833</th>\n",
       "      <td>2023-24</td>\n",
       "      <td>Playoffs</td>\n",
       "      <td>201152</td>\n",
       "      <td>Thaddeus Young</td>\n",
       "      <td>PHX</td>\n",
       "      <td>4</td>\n",
       "      <td>0</td>\n",
       "      <td>0.000000</td>\n",
       "    </tr>\n",
       "    <tr>\n",
       "      <th>8834</th>\n",
       "      <td>2023-24</td>\n",
       "      <td>Playoffs</td>\n",
       "      <td>203648</td>\n",
       "      <td>Thanasis Antetokounmpo</td>\n",
       "      <td>MIL</td>\n",
       "      <td>5</td>\n",
       "      <td>0</td>\n",
       "      <td>0.000000</td>\n",
       "    </tr>\n",
       "  </tbody>\n",
       "</table>\n",
       "<p>8835 rows × 8 columns</p>\n",
       "</div>"
      ],
      "text/plain": [
       "         Year Season_type  Player_ID                   Player Team  \\\n",
       "0     2012-13     Regular     201142             Kevin Durant  OKC   \n",
       "1     2012-13     Regular        977              Kobe Bryant  LAL   \n",
       "2     2012-13     Regular       2544             LeBron James  MIA   \n",
       "3     2012-13     Regular     201935             James Harden  HOU   \n",
       "4     2012-13     Regular       2546          Carmelo Anthony  NYK   \n",
       "...       ...         ...        ...                      ...  ...   \n",
       "8830  2023-24    Playoffs    1641765  Olivier-Maxence Prosper  DAL   \n",
       "8831  2023-24    Playoffs    1631115         Orlando Robinson  MIA   \n",
       "8832  2023-24    Playoffs     203933              T.J. Warren  MIN   \n",
       "8833  2023-24    Playoffs     201152           Thaddeus Young  PHX   \n",
       "8834  2023-24    Playoffs     203648   Thanasis Antetokounmpo  MIL   \n",
       "\n",
       "      Minutes Played  Points  Points Per Min  \n",
       "0               3119    2280        0.731004  \n",
       "1               3013    2133        0.707932  \n",
       "2               2877    2036        0.707682  \n",
       "3               2985    2023        0.677722  \n",
       "4               2482    1920        0.773570  \n",
       "...              ...     ...             ...  \n",
       "8830               9       0        0.000000  \n",
       "8831               2       0        0.000000  \n",
       "8832              11       0        0.000000  \n",
       "8833               4       0        0.000000  \n",
       "8834               5       0        0.000000  \n",
       "\n",
       "[8835 rows x 8 columns]"
      ]
     },
     "execution_count": 13,
     "metadata": {},
     "output_type": "execute_result"
    }
   ],
   "source": [
    "# Adding Point per min column to the best dataframe\n",
    "\n",
    "best_player_df.loc[:,'Points Per Min'] = best_player_df['Points'] / best_player_df['Minutes Played']\n",
    "best_player_df"
   ]
  },
  {
   "cell_type": "code",
   "execution_count": 14,
   "metadata": {},
   "outputs": [
    {
     "data": {
      "text/html": [
       "<div>\n",
       "<style scoped>\n",
       "    .dataframe tbody tr th:only-of-type {\n",
       "        vertical-align: middle;\n",
       "    }\n",
       "\n",
       "    .dataframe tbody tr th {\n",
       "        vertical-align: top;\n",
       "    }\n",
       "\n",
       "    .dataframe thead th {\n",
       "        text-align: right;\n",
       "    }\n",
       "</style>\n",
       "<table border=\"1\" class=\"dataframe\">\n",
       "  <thead>\n",
       "    <tr style=\"text-align: right;\">\n",
       "      <th></th>\n",
       "      <th>Year</th>\n",
       "      <th>Season_type</th>\n",
       "      <th>Player</th>\n",
       "      <th>Team</th>\n",
       "      <th>Minutes Played</th>\n",
       "      <th>Points</th>\n",
       "      <th>Points Per Min</th>\n",
       "    </tr>\n",
       "    <tr>\n",
       "      <th>Player_ID</th>\n",
       "      <th></th>\n",
       "      <th></th>\n",
       "      <th></th>\n",
       "      <th></th>\n",
       "      <th></th>\n",
       "      <th></th>\n",
       "      <th></th>\n",
       "    </tr>\n",
       "  </thead>\n",
       "  <tbody>\n",
       "    <tr>\n",
       "      <th>1628513</th>\n",
       "      <td>2017-18</td>\n",
       "      <td>Regular</td>\n",
       "      <td>Naz Mitrou-Long</td>\n",
       "      <td>UTA</td>\n",
       "      <td>1</td>\n",
       "      <td>3</td>\n",
       "      <td>3.000000</td>\n",
       "    </tr>\n",
       "    <tr>\n",
       "      <th>1627098</th>\n",
       "      <td>2016-17</td>\n",
       "      <td>Playoffs</td>\n",
       "      <td>Malcolm Delaney</td>\n",
       "      <td>ATL</td>\n",
       "      <td>3</td>\n",
       "      <td>8</td>\n",
       "      <td>2.666667</td>\n",
       "    </tr>\n",
       "    <tr>\n",
       "      <th>201880</th>\n",
       "      <td>2014-15</td>\n",
       "      <td>Playoffs</td>\n",
       "      <td>Greg Stiemsma</td>\n",
       "      <td>TOR</td>\n",
       "      <td>2</td>\n",
       "      <td>5</td>\n",
       "      <td>2.500000</td>\n",
       "    </tr>\n",
       "    <tr>\n",
       "      <th>1628995</th>\n",
       "      <td>2021-22</td>\n",
       "      <td>Playoffs</td>\n",
       "      <td>Kevin Knox II</td>\n",
       "      <td>ATL</td>\n",
       "      <td>9</td>\n",
       "      <td>22</td>\n",
       "      <td>2.444444</td>\n",
       "    </tr>\n",
       "    <tr>\n",
       "      <th>203895</th>\n",
       "      <td>2015-16</td>\n",
       "      <td>Playoffs</td>\n",
       "      <td>Jordan McRae</td>\n",
       "      <td>CLE</td>\n",
       "      <td>4</td>\n",
       "      <td>9</td>\n",
       "      <td>2.250000</td>\n",
       "    </tr>\n",
       "    <tr>\n",
       "      <th>...</th>\n",
       "      <td>...</td>\n",
       "      <td>...</td>\n",
       "      <td>...</td>\n",
       "      <td>...</td>\n",
       "      <td>...</td>\n",
       "      <td>...</td>\n",
       "      <td>...</td>\n",
       "    </tr>\n",
       "    <tr>\n",
       "      <th>1628993</th>\n",
       "      <td>2019-20</td>\n",
       "      <td>Playoffs</td>\n",
       "      <td>Alize Johnson</td>\n",
       "      <td>IND</td>\n",
       "      <td>0</td>\n",
       "      <td>0</td>\n",
       "      <td>NaN</td>\n",
       "    </tr>\n",
       "    <tr>\n",
       "      <th>1629216</th>\n",
       "      <td>2019-20</td>\n",
       "      <td>Playoffs</td>\n",
       "      <td>Gabe Vincent</td>\n",
       "      <td>MIA</td>\n",
       "      <td>0</td>\n",
       "      <td>0</td>\n",
       "      <td>NaN</td>\n",
       "    </tr>\n",
       "    <tr>\n",
       "      <th>2199</th>\n",
       "      <td>2019-20</td>\n",
       "      <td>Playoffs</td>\n",
       "      <td>Tyson Chandler</td>\n",
       "      <td>HOU</td>\n",
       "      <td>0</td>\n",
       "      <td>0</td>\n",
       "      <td>NaN</td>\n",
       "    </tr>\n",
       "    <tr>\n",
       "      <th>1630560</th>\n",
       "      <td>2021-22</td>\n",
       "      <td>Playoffs</td>\n",
       "      <td>Cam Thomas</td>\n",
       "      <td>BKN</td>\n",
       "      <td>0</td>\n",
       "      <td>0</td>\n",
       "      <td>NaN</td>\n",
       "    </tr>\n",
       "    <tr>\n",
       "      <th>1630549</th>\n",
       "      <td>2021-22</td>\n",
       "      <td>Playoffs</td>\n",
       "      <td>Day'Ron Sharpe</td>\n",
       "      <td>BKN</td>\n",
       "      <td>0</td>\n",
       "      <td>0</td>\n",
       "      <td>NaN</td>\n",
       "    </tr>\n",
       "  </tbody>\n",
       "</table>\n",
       "<p>8835 rows × 7 columns</p>\n",
       "</div>"
      ],
      "text/plain": [
       "              Year Season_type           Player Team  Minutes Played  Points  \\\n",
       "Player_ID                                                                      \n",
       "1628513    2017-18     Regular  Naz Mitrou-Long  UTA               1       3   \n",
       "1627098    2016-17    Playoffs  Malcolm Delaney  ATL               3       8   \n",
       "201880     2014-15    Playoffs    Greg Stiemsma  TOR               2       5   \n",
       "1628995    2021-22    Playoffs    Kevin Knox II  ATL               9      22   \n",
       "203895     2015-16    Playoffs     Jordan McRae  CLE               4       9   \n",
       "...            ...         ...              ...  ...             ...     ...   \n",
       "1628993    2019-20    Playoffs    Alize Johnson  IND               0       0   \n",
       "1629216    2019-20    Playoffs     Gabe Vincent  MIA               0       0   \n",
       "2199       2019-20    Playoffs   Tyson Chandler  HOU               0       0   \n",
       "1630560    2021-22    Playoffs       Cam Thomas  BKN               0       0   \n",
       "1630549    2021-22    Playoffs   Day'Ron Sharpe  BKN               0       0   \n",
       "\n",
       "           Points Per Min  \n",
       "Player_ID                  \n",
       "1628513          3.000000  \n",
       "1627098          2.666667  \n",
       "201880           2.500000  \n",
       "1628995          2.444444  \n",
       "203895           2.250000  \n",
       "...                   ...  \n",
       "1628993               NaN  \n",
       "1629216               NaN  \n",
       "2199                  NaN  \n",
       "1630560               NaN  \n",
       "1630549               NaN  \n",
       "\n",
       "[8835 rows x 7 columns]"
      ]
     },
     "execution_count": 14,
     "metadata": {},
     "output_type": "execute_result"
    }
   ],
   "source": [
    "# Arranging the Points per min by descending order\n",
    "\n",
    "best_sorted = best_player_df.sort_values(by='Points Per Min', ascending=False)\n",
    "best_sorted.set_index('Player_ID', inplace=True)\n",
    "best_sorted"
   ]
  },
  {
   "cell_type": "code",
   "execution_count": 15,
   "metadata": {},
   "outputs": [
    {
     "data": {
      "text/html": [
       "<div>\n",
       "<style scoped>\n",
       "    .dataframe tbody tr th:only-of-type {\n",
       "        vertical-align: middle;\n",
       "    }\n",
       "\n",
       "    .dataframe tbody tr th {\n",
       "        vertical-align: top;\n",
       "    }\n",
       "\n",
       "    .dataframe thead th {\n",
       "        text-align: right;\n",
       "    }\n",
       "</style>\n",
       "<table border=\"1\" class=\"dataframe\">\n",
       "  <thead>\n",
       "    <tr style=\"text-align: right;\">\n",
       "      <th></th>\n",
       "      <th>Year</th>\n",
       "      <th>Season_type</th>\n",
       "      <th>Player</th>\n",
       "      <th>Team</th>\n",
       "      <th>Minutes Played</th>\n",
       "      <th>Points</th>\n",
       "      <th>Points Per Min</th>\n",
       "    </tr>\n",
       "    <tr>\n",
       "      <th>Player_ID</th>\n",
       "      <th></th>\n",
       "      <th></th>\n",
       "      <th></th>\n",
       "      <th></th>\n",
       "      <th></th>\n",
       "      <th></th>\n",
       "      <th></th>\n",
       "    </tr>\n",
       "  </thead>\n",
       "  <tbody>\n",
       "    <tr>\n",
       "      <th>1628513</th>\n",
       "      <td>2017-18</td>\n",
       "      <td>Regular</td>\n",
       "      <td>Naz Mitrou-Long</td>\n",
       "      <td>UTA</td>\n",
       "      <td>1</td>\n",
       "      <td>3</td>\n",
       "      <td>3.000000</td>\n",
       "    </tr>\n",
       "    <tr>\n",
       "      <th>1627098</th>\n",
       "      <td>2016-17</td>\n",
       "      <td>Playoffs</td>\n",
       "      <td>Malcolm Delaney</td>\n",
       "      <td>ATL</td>\n",
       "      <td>3</td>\n",
       "      <td>8</td>\n",
       "      <td>2.666667</td>\n",
       "    </tr>\n",
       "    <tr>\n",
       "      <th>201880</th>\n",
       "      <td>2014-15</td>\n",
       "      <td>Playoffs</td>\n",
       "      <td>Greg Stiemsma</td>\n",
       "      <td>TOR</td>\n",
       "      <td>2</td>\n",
       "      <td>5</td>\n",
       "      <td>2.500000</td>\n",
       "    </tr>\n",
       "    <tr>\n",
       "      <th>1628995</th>\n",
       "      <td>2021-22</td>\n",
       "      <td>Playoffs</td>\n",
       "      <td>Kevin Knox II</td>\n",
       "      <td>ATL</td>\n",
       "      <td>9</td>\n",
       "      <td>22</td>\n",
       "      <td>2.444444</td>\n",
       "    </tr>\n",
       "    <tr>\n",
       "      <th>203895</th>\n",
       "      <td>2015-16</td>\n",
       "      <td>Playoffs</td>\n",
       "      <td>Jordan McRae</td>\n",
       "      <td>CLE</td>\n",
       "      <td>4</td>\n",
       "      <td>9</td>\n",
       "      <td>2.250000</td>\n",
       "    </tr>\n",
       "    <tr>\n",
       "      <th>...</th>\n",
       "      <td>...</td>\n",
       "      <td>...</td>\n",
       "      <td>...</td>\n",
       "      <td>...</td>\n",
       "      <td>...</td>\n",
       "      <td>...</td>\n",
       "      <td>...</td>\n",
       "    </tr>\n",
       "    <tr>\n",
       "      <th>1630608</th>\n",
       "      <td>2023-24</td>\n",
       "      <td>Regular</td>\n",
       "      <td>Malcolm Cazalon</td>\n",
       "      <td>DET</td>\n",
       "      <td>3</td>\n",
       "      <td>0</td>\n",
       "      <td>0.000000</td>\n",
       "    </tr>\n",
       "    <tr>\n",
       "      <th>1629232</th>\n",
       "      <td>2023-24</td>\n",
       "      <td>Regular</td>\n",
       "      <td>Kaiser Gates</td>\n",
       "      <td>NOP</td>\n",
       "      <td>7</td>\n",
       "      <td>0</td>\n",
       "      <td>0.000000</td>\n",
       "    </tr>\n",
       "    <tr>\n",
       "      <th>1628382</th>\n",
       "      <td>2023-24</td>\n",
       "      <td>Regular</td>\n",
       "      <td>Justin Jackson</td>\n",
       "      <td>MIN</td>\n",
       "      <td>1</td>\n",
       "      <td>0</td>\n",
       "      <td>0.000000</td>\n",
       "    </tr>\n",
       "    <tr>\n",
       "      <th>1630606</th>\n",
       "      <td>2023-24</td>\n",
       "      <td>Regular</td>\n",
       "      <td>Javonte Smart</td>\n",
       "      <td>PHI</td>\n",
       "      <td>1</td>\n",
       "      <td>0</td>\n",
       "      <td>0.000000</td>\n",
       "    </tr>\n",
       "    <tr>\n",
       "      <th>203648</th>\n",
       "      <td>2023-24</td>\n",
       "      <td>Playoffs</td>\n",
       "      <td>Thanasis Antetokounmpo</td>\n",
       "      <td>MIL</td>\n",
       "      <td>5</td>\n",
       "      <td>0</td>\n",
       "      <td>0.000000</td>\n",
       "    </tr>\n",
       "  </tbody>\n",
       "</table>\n",
       "<p>8830 rows × 7 columns</p>\n",
       "</div>"
      ],
      "text/plain": [
       "              Year Season_type                  Player Team  Minutes Played  \\\n",
       "Player_ID                                                                     \n",
       "1628513    2017-18     Regular         Naz Mitrou-Long  UTA               1   \n",
       "1627098    2016-17    Playoffs         Malcolm Delaney  ATL               3   \n",
       "201880     2014-15    Playoffs           Greg Stiemsma  TOR               2   \n",
       "1628995    2021-22    Playoffs           Kevin Knox II  ATL               9   \n",
       "203895     2015-16    Playoffs            Jordan McRae  CLE               4   \n",
       "...            ...         ...                     ...  ...             ...   \n",
       "1630608    2023-24     Regular         Malcolm Cazalon  DET               3   \n",
       "1629232    2023-24     Regular            Kaiser Gates  NOP               7   \n",
       "1628382    2023-24     Regular          Justin Jackson  MIN               1   \n",
       "1630606    2023-24     Regular           Javonte Smart  PHI               1   \n",
       "203648     2023-24    Playoffs  Thanasis Antetokounmpo  MIL               5   \n",
       "\n",
       "           Points  Points Per Min  \n",
       "Player_ID                          \n",
       "1628513         3        3.000000  \n",
       "1627098         8        2.666667  \n",
       "201880          5        2.500000  \n",
       "1628995        22        2.444444  \n",
       "203895          9        2.250000  \n",
       "...           ...             ...  \n",
       "1630608         0        0.000000  \n",
       "1629232         0        0.000000  \n",
       "1628382         0        0.000000  \n",
       "1630606         0        0.000000  \n",
       "203648          0        0.000000  \n",
       "\n",
       "[8830 rows x 7 columns]"
      ]
     },
     "execution_count": 15,
     "metadata": {},
     "output_type": "execute_result"
    }
   ],
   "source": [
    "# Dropping rows with null values\n",
    "best_sorted.dropna(axis=0, how='any', inplace=False)"
   ]
  },
  {
   "cell_type": "code",
   "execution_count": 16,
   "metadata": {},
   "outputs": [
    {
     "data": {
      "text/html": [
       "<div>\n",
       "<style scoped>\n",
       "    .dataframe tbody tr th:only-of-type {\n",
       "        vertical-align: middle;\n",
       "    }\n",
       "\n",
       "    .dataframe tbody tr th {\n",
       "        vertical-align: top;\n",
       "    }\n",
       "\n",
       "    .dataframe thead th {\n",
       "        text-align: right;\n",
       "    }\n",
       "</style>\n",
       "<table border=\"1\" class=\"dataframe\">\n",
       "  <thead>\n",
       "    <tr style=\"text-align: right;\">\n",
       "      <th></th>\n",
       "      <th>Year</th>\n",
       "      <th>Season_type</th>\n",
       "      <th>Player_ID</th>\n",
       "      <th>Player</th>\n",
       "      <th>Team</th>\n",
       "      <th>Minutes Played</th>\n",
       "      <th>Points</th>\n",
       "      <th>Points Per Min</th>\n",
       "    </tr>\n",
       "  </thead>\n",
       "  <tbody>\n",
       "    <tr>\n",
       "      <th>0</th>\n",
       "      <td>2012-13</td>\n",
       "      <td>Regular</td>\n",
       "      <td>201142</td>\n",
       "      <td>Kevin Durant</td>\n",
       "      <td>OKC</td>\n",
       "      <td>3119</td>\n",
       "      <td>2280</td>\n",
       "      <td>0.731004</td>\n",
       "    </tr>\n",
       "    <tr>\n",
       "      <th>1</th>\n",
       "      <td>2012-13</td>\n",
       "      <td>Regular</td>\n",
       "      <td>977</td>\n",
       "      <td>Kobe Bryant</td>\n",
       "      <td>LAL</td>\n",
       "      <td>3013</td>\n",
       "      <td>2133</td>\n",
       "      <td>0.707932</td>\n",
       "    </tr>\n",
       "    <tr>\n",
       "      <th>2</th>\n",
       "      <td>2012-13</td>\n",
       "      <td>Regular</td>\n",
       "      <td>2544</td>\n",
       "      <td>LeBron James</td>\n",
       "      <td>MIA</td>\n",
       "      <td>2877</td>\n",
       "      <td>2036</td>\n",
       "      <td>0.707682</td>\n",
       "    </tr>\n",
       "    <tr>\n",
       "      <th>3</th>\n",
       "      <td>2012-13</td>\n",
       "      <td>Regular</td>\n",
       "      <td>201935</td>\n",
       "      <td>James Harden</td>\n",
       "      <td>HOU</td>\n",
       "      <td>2985</td>\n",
       "      <td>2023</td>\n",
       "      <td>0.677722</td>\n",
       "    </tr>\n",
       "    <tr>\n",
       "      <th>4</th>\n",
       "      <td>2012-13</td>\n",
       "      <td>Regular</td>\n",
       "      <td>2546</td>\n",
       "      <td>Carmelo Anthony</td>\n",
       "      <td>NYK</td>\n",
       "      <td>2482</td>\n",
       "      <td>1920</td>\n",
       "      <td>0.773570</td>\n",
       "    </tr>\n",
       "    <tr>\n",
       "      <th>...</th>\n",
       "      <td>...</td>\n",
       "      <td>...</td>\n",
       "      <td>...</td>\n",
       "      <td>...</td>\n",
       "      <td>...</td>\n",
       "      <td>...</td>\n",
       "      <td>...</td>\n",
       "      <td>...</td>\n",
       "    </tr>\n",
       "    <tr>\n",
       "      <th>8198</th>\n",
       "      <td>2023-24</td>\n",
       "      <td>Regular</td>\n",
       "      <td>203484</td>\n",
       "      <td>Kentavious Caldwell-Pope</td>\n",
       "      <td>DEN</td>\n",
       "      <td>2402</td>\n",
       "      <td>766</td>\n",
       "      <td>0.318901</td>\n",
       "    </tr>\n",
       "    <tr>\n",
       "      <th>8200</th>\n",
       "      <td>2023-24</td>\n",
       "      <td>Regular</td>\n",
       "      <td>1628404</td>\n",
       "      <td>Josh Hart</td>\n",
       "      <td>NYK</td>\n",
       "      <td>2707</td>\n",
       "      <td>761</td>\n",
       "      <td>0.281123</td>\n",
       "    </tr>\n",
       "    <tr>\n",
       "      <th>8201</th>\n",
       "      <td>2023-24</td>\n",
       "      <td>Regular</td>\n",
       "      <td>1630183</td>\n",
       "      <td>Jaden McDaniels</td>\n",
       "      <td>MIN</td>\n",
       "      <td>2105</td>\n",
       "      <td>757</td>\n",
       "      <td>0.359620</td>\n",
       "    </tr>\n",
       "    <tr>\n",
       "      <th>8207</th>\n",
       "      <td>2023-24</td>\n",
       "      <td>Regular</td>\n",
       "      <td>1627936</td>\n",
       "      <td>Alex Caruso</td>\n",
       "      <td>CHI</td>\n",
       "      <td>2040</td>\n",
       "      <td>715</td>\n",
       "      <td>0.350490</td>\n",
       "    </tr>\n",
       "    <tr>\n",
       "      <th>8210</th>\n",
       "      <td>2023-24</td>\n",
       "      <td>Regular</td>\n",
       "      <td>1627752</td>\n",
       "      <td>Taurean Prince</td>\n",
       "      <td>LAL</td>\n",
       "      <td>2108</td>\n",
       "      <td>697</td>\n",
       "      <td>0.330645</td>\n",
       "    </tr>\n",
       "  </tbody>\n",
       "</table>\n",
       "<p>1186 rows × 8 columns</p>\n",
       "</div>"
      ],
      "text/plain": [
       "         Year Season_type  Player_ID                    Player Team  \\\n",
       "0     2012-13     Regular     201142              Kevin Durant  OKC   \n",
       "1     2012-13     Regular        977               Kobe Bryant  LAL   \n",
       "2     2012-13     Regular       2544              LeBron James  MIA   \n",
       "3     2012-13     Regular     201935              James Harden  HOU   \n",
       "4     2012-13     Regular       2546           Carmelo Anthony  NYK   \n",
       "...       ...         ...        ...                       ...  ...   \n",
       "8198  2023-24     Regular     203484  Kentavious Caldwell-Pope  DEN   \n",
       "8200  2023-24     Regular    1628404                 Josh Hart  NYK   \n",
       "8201  2023-24     Regular    1630183           Jaden McDaniels  MIN   \n",
       "8207  2023-24     Regular    1627936               Alex Caruso  CHI   \n",
       "8210  2023-24     Regular    1627752            Taurean Prince  LAL   \n",
       "\n",
       "      Minutes Played  Points  Points Per Min  \n",
       "0               3119    2280        0.731004  \n",
       "1               3013    2133        0.707932  \n",
       "2               2877    2036        0.707682  \n",
       "3               2985    2023        0.677722  \n",
       "4               2482    1920        0.773570  \n",
       "...              ...     ...             ...  \n",
       "8198            2402     766        0.318901  \n",
       "8200            2707     761        0.281123  \n",
       "8201            2105     757        0.359620  \n",
       "8207            2040     715        0.350490  \n",
       "8210            2108     697        0.330645  \n",
       "\n",
       "[1186 rows x 8 columns]"
      ]
     },
     "execution_count": 16,
     "metadata": {},
     "output_type": "execute_result"
    }
   ],
   "source": [
    "# Removing playes with a low minutes playes value\n",
    "\n",
    "threshold= 2000\n",
    "df_filtered = best_player_df[best_player_df['Minutes Played'] >= threshold]\n",
    "\n",
    "df_filtered"
   ]
  },
  {
   "cell_type": "code",
   "execution_count": 17,
   "metadata": {},
   "outputs": [
    {
     "data": {
      "text/html": [
       "<div>\n",
       "<style scoped>\n",
       "    .dataframe tbody tr th:only-of-type {\n",
       "        vertical-align: middle;\n",
       "    }\n",
       "\n",
       "    .dataframe tbody tr th {\n",
       "        vertical-align: top;\n",
       "    }\n",
       "\n",
       "    .dataframe thead th {\n",
       "        text-align: right;\n",
       "    }\n",
       "</style>\n",
       "<table border=\"1\" class=\"dataframe\">\n",
       "  <thead>\n",
       "    <tr style=\"text-align: right;\">\n",
       "      <th></th>\n",
       "      <th>Year</th>\n",
       "      <th>Season_type</th>\n",
       "      <th>Player_ID</th>\n",
       "      <th>Player</th>\n",
       "      <th>Team</th>\n",
       "      <th>Minutes Played</th>\n",
       "      <th>Points</th>\n",
       "      <th>Points Per Min</th>\n",
       "    </tr>\n",
       "  </thead>\n",
       "  <tbody>\n",
       "    <tr>\n",
       "      <th>4204</th>\n",
       "      <td>2018-19</td>\n",
       "      <td>Regular</td>\n",
       "      <td>201935</td>\n",
       "      <td>James Harden</td>\n",
       "      <td>HOU</td>\n",
       "      <td>2867</td>\n",
       "      <td>2818</td>\n",
       "      <td>0.98</td>\n",
       "    </tr>\n",
       "    <tr>\n",
       "      <th>7297</th>\n",
       "      <td>2022-23</td>\n",
       "      <td>Regular</td>\n",
       "      <td>203507</td>\n",
       "      <td>Giannis Antetokounmpo</td>\n",
       "      <td>MIL</td>\n",
       "      <td>2024</td>\n",
       "      <td>1959</td>\n",
       "      <td>0.97</td>\n",
       "    </tr>\n",
       "    <tr>\n",
       "      <th>7294</th>\n",
       "      <td>2022-23</td>\n",
       "      <td>Regular</td>\n",
       "      <td>203954</td>\n",
       "      <td>Joel Embiid</td>\n",
       "      <td>PHI</td>\n",
       "      <td>2284</td>\n",
       "      <td>2183</td>\n",
       "      <td>0.96</td>\n",
       "    </tr>\n",
       "    <tr>\n",
       "      <th>4946</th>\n",
       "      <td>2019-20</td>\n",
       "      <td>Regular</td>\n",
       "      <td>201935</td>\n",
       "      <td>James Harden</td>\n",
       "      <td>HOU</td>\n",
       "      <td>2483</td>\n",
       "      <td>2335</td>\n",
       "      <td>0.94</td>\n",
       "    </tr>\n",
       "    <tr>\n",
       "      <th>5692</th>\n",
       "      <td>2020-21</td>\n",
       "      <td>Regular</td>\n",
       "      <td>201939</td>\n",
       "      <td>Stephen Curry</td>\n",
       "      <td>GSW</td>\n",
       "      <td>2152</td>\n",
       "      <td>2015</td>\n",
       "      <td>0.94</td>\n",
       "    </tr>\n",
       "    <tr>\n",
       "      <th>2753</th>\n",
       "      <td>2016-17</td>\n",
       "      <td>Regular</td>\n",
       "      <td>201566</td>\n",
       "      <td>Russell Westbrook</td>\n",
       "      <td>OKC</td>\n",
       "      <td>2802</td>\n",
       "      <td>2558</td>\n",
       "      <td>0.91</td>\n",
       "    </tr>\n",
       "    <tr>\n",
       "      <th>6476</th>\n",
       "      <td>2021-22</td>\n",
       "      <td>Regular</td>\n",
       "      <td>203507</td>\n",
       "      <td>Giannis Antetokounmpo</td>\n",
       "      <td>MIL</td>\n",
       "      <td>2204</td>\n",
       "      <td>2002</td>\n",
       "      <td>0.91</td>\n",
       "    </tr>\n",
       "    <tr>\n",
       "      <th>6473</th>\n",
       "      <td>2021-22</td>\n",
       "      <td>Regular</td>\n",
       "      <td>203954</td>\n",
       "      <td>Joel Embiid</td>\n",
       "      <td>PHI</td>\n",
       "      <td>2296</td>\n",
       "      <td>2079</td>\n",
       "      <td>0.91</td>\n",
       "    </tr>\n",
       "    <tr>\n",
       "      <th>8049</th>\n",
       "      <td>2023-24</td>\n",
       "      <td>Regular</td>\n",
       "      <td>1629029</td>\n",
       "      <td>Luka Doncic</td>\n",
       "      <td>DAL</td>\n",
       "      <td>2624</td>\n",
       "      <td>2370</td>\n",
       "      <td>0.90</td>\n",
       "    </tr>\n",
       "    <tr>\n",
       "      <th>7295</th>\n",
       "      <td>2022-23</td>\n",
       "      <td>Regular</td>\n",
       "      <td>1629029</td>\n",
       "      <td>Luka Doncic</td>\n",
       "      <td>DAL</td>\n",
       "      <td>2391</td>\n",
       "      <td>2138</td>\n",
       "      <td>0.89</td>\n",
       "    </tr>\n",
       "    <tr>\n",
       "      <th>7303</th>\n",
       "      <td>2022-23</td>\n",
       "      <td>Regular</td>\n",
       "      <td>203081</td>\n",
       "      <td>Damian Lillard</td>\n",
       "      <td>POR</td>\n",
       "      <td>2107</td>\n",
       "      <td>1866</td>\n",
       "      <td>0.89</td>\n",
       "    </tr>\n",
       "    <tr>\n",
       "      <th>7296</th>\n",
       "      <td>2022-23</td>\n",
       "      <td>Regular</td>\n",
       "      <td>1628983</td>\n",
       "      <td>Shai Gilgeous-Alexander</td>\n",
       "      <td>OKC</td>\n",
       "      <td>2416</td>\n",
       "      <td>2135</td>\n",
       "      <td>0.88</td>\n",
       "    </tr>\n",
       "    <tr>\n",
       "      <th>8050</th>\n",
       "      <td>2023-24</td>\n",
       "      <td>Regular</td>\n",
       "      <td>1628983</td>\n",
       "      <td>Shai Gilgeous-Alexander</td>\n",
       "      <td>OKC</td>\n",
       "      <td>2553</td>\n",
       "      <td>2254</td>\n",
       "      <td>0.88</td>\n",
       "    </tr>\n",
       "    <tr>\n",
       "      <th>2063</th>\n",
       "      <td>2015-16</td>\n",
       "      <td>Regular</td>\n",
       "      <td>201939</td>\n",
       "      <td>Stephen Curry</td>\n",
       "      <td>GSW</td>\n",
       "      <td>2700</td>\n",
       "      <td>2375</td>\n",
       "      <td>0.88</td>\n",
       "    </tr>\n",
       "    <tr>\n",
       "      <th>5695</th>\n",
       "      <td>2020-21</td>\n",
       "      <td>Regular</td>\n",
       "      <td>203078</td>\n",
       "      <td>Bradley Beal</td>\n",
       "      <td>WAS</td>\n",
       "      <td>2147</td>\n",
       "      <td>1878</td>\n",
       "      <td>0.87</td>\n",
       "    </tr>\n",
       "  </tbody>\n",
       "</table>\n",
       "</div>"
      ],
      "text/plain": [
       "         Year Season_type  Player_ID                   Player Team  \\\n",
       "4204  2018-19     Regular     201935             James Harden  HOU   \n",
       "7297  2022-23     Regular     203507    Giannis Antetokounmpo  MIL   \n",
       "7294  2022-23     Regular     203954              Joel Embiid  PHI   \n",
       "4946  2019-20     Regular     201935             James Harden  HOU   \n",
       "5692  2020-21     Regular     201939            Stephen Curry  GSW   \n",
       "2753  2016-17     Regular     201566        Russell Westbrook  OKC   \n",
       "6476  2021-22     Regular     203507    Giannis Antetokounmpo  MIL   \n",
       "6473  2021-22     Regular     203954              Joel Embiid  PHI   \n",
       "8049  2023-24     Regular    1629029              Luka Doncic  DAL   \n",
       "7295  2022-23     Regular    1629029              Luka Doncic  DAL   \n",
       "7303  2022-23     Regular     203081           Damian Lillard  POR   \n",
       "7296  2022-23     Regular    1628983  Shai Gilgeous-Alexander  OKC   \n",
       "8050  2023-24     Regular    1628983  Shai Gilgeous-Alexander  OKC   \n",
       "2063  2015-16     Regular     201939            Stephen Curry  GSW   \n",
       "5695  2020-21     Regular     203078             Bradley Beal  WAS   \n",
       "\n",
       "      Minutes Played  Points  Points Per Min  \n",
       "4204            2867    2818            0.98  \n",
       "7297            2024    1959            0.97  \n",
       "7294            2284    2183            0.96  \n",
       "4946            2483    2335            0.94  \n",
       "5692            2152    2015            0.94  \n",
       "2753            2802    2558            0.91  \n",
       "6476            2204    2002            0.91  \n",
       "6473            2296    2079            0.91  \n",
       "8049            2624    2370            0.90  \n",
       "7295            2391    2138            0.89  \n",
       "7303            2107    1866            0.89  \n",
       "7296            2416    2135            0.88  \n",
       "8050            2553    2254            0.88  \n",
       "2063            2700    2375            0.88  \n",
       "5695            2147    1878            0.87  "
      ]
     },
     "execution_count": 17,
     "metadata": {},
     "output_type": "execute_result"
    }
   ],
   "source": [
    "# Creating a dataframe with the top 15 players\n",
    "\n",
    "top15_df = df_filtered.nlargest(15, 'Points Per Min')\n",
    "top15_df['Points Per Min'] = top15_df['Points Per Min'].round(2)\n",
    "\n",
    "top15_df"
   ]
  },
  {
   "cell_type": "code",
   "execution_count": 18,
   "metadata": {},
   "outputs": [
    {
     "data": {
      "image/png": "[encoded data removed]",
      "text/plain": [
       "<Figure size 2500x1200 with 1 Axes>"
      ]
     },
     "metadata": {},
     "output_type": "display_data"
    }
   ],
   "source": [
    "# Plotting a bar chart to represent the above dataframe\n",
    "\n",
    "players = top15_df['Player']  \n",
    "points_per_min = top15_df['Points Per Min']  \n",
    "\n",
    "plt.figure(figsize=(25, 12))\n",
    "\n",
    "# Create the bar chart\n",
    "bars = plt.bar(players, points_per_min, color='orange', alpha= 0.3)\n",
    "\n",
    "plt.ylim(0.0 , 1.2)  # Adjust the y-axis limit if needed\n",
    "\n",
    "# Adding text labels on top of the bars\n",
    "for i, bar in enumerate(bars):\n",
    "    yval = bar.get_height()\n",
    "    plt.text(bar.get_x() + bar.get_width()/2, yval - 0.02, round(yval, 2),\n",
    "             ha='center', va='top', color='black')\n",
    "\n",
    "plt.xlabel('Players')\n",
    "plt.ylabel('Points Per Min')\n",
    "plt.title('Players vs Points Per Min Played')\n",
    "plt.xticks(rotation=45)\n",
    "plt.savefig(\"Players_vs_Points_Per_Min_Played.png\")\n",
    "plt.show()"
   ]
  },
  {
   "cell_type": "code",
   "execution_count": 19,
   "metadata": {},
   "outputs": [
    {
     "data": {
      "text/html": [
       "<div>\n",
       "<style scoped>\n",
       "    .dataframe tbody tr th:only-of-type {\n",
       "        vertical-align: middle;\n",
       "    }\n",
       "\n",
       "    .dataframe tbody tr th {\n",
       "        vertical-align: top;\n",
       "    }\n",
       "\n",
       "    .dataframe thead th {\n",
       "        text-align: right;\n",
       "    }\n",
       "</style>\n",
       "<table border=\"1\" class=\"dataframe\">\n",
       "  <thead>\n",
       "    <tr style=\"text-align: right;\">\n",
       "      <th></th>\n",
       "      <th>Year</th>\n",
       "      <th>Season_type</th>\n",
       "      <th>Player</th>\n",
       "      <th>Team</th>\n",
       "      <th>Minutes Played</th>\n",
       "      <th>Points</th>\n",
       "      <th>Points Per Min</th>\n",
       "    </tr>\n",
       "    <tr>\n",
       "      <th>Player_ID</th>\n",
       "      <th></th>\n",
       "      <th></th>\n",
       "      <th></th>\n",
       "      <th></th>\n",
       "      <th></th>\n",
       "      <th></th>\n",
       "      <th></th>\n",
       "    </tr>\n",
       "  </thead>\n",
       "  <tbody>\n",
       "    <tr>\n",
       "      <th>1628513</th>\n",
       "      <td>2017-18</td>\n",
       "      <td>Regular</td>\n",
       "      <td>Naz Mitrou-Long</td>\n",
       "      <td>UTA</td>\n",
       "      <td>1</td>\n",
       "      <td>3</td>\n",
       "      <td>3.000000</td>\n",
       "    </tr>\n",
       "    <tr>\n",
       "      <th>1627098</th>\n",
       "      <td>2016-17</td>\n",
       "      <td>Playoffs</td>\n",
       "      <td>Malcolm Delaney</td>\n",
       "      <td>ATL</td>\n",
       "      <td>3</td>\n",
       "      <td>8</td>\n",
       "      <td>2.666667</td>\n",
       "    </tr>\n",
       "    <tr>\n",
       "      <th>201880</th>\n",
       "      <td>2014-15</td>\n",
       "      <td>Playoffs</td>\n",
       "      <td>Greg Stiemsma</td>\n",
       "      <td>TOR</td>\n",
       "      <td>2</td>\n",
       "      <td>5</td>\n",
       "      <td>2.500000</td>\n",
       "    </tr>\n",
       "    <tr>\n",
       "      <th>1628995</th>\n",
       "      <td>2021-22</td>\n",
       "      <td>Playoffs</td>\n",
       "      <td>Kevin Knox II</td>\n",
       "      <td>ATL</td>\n",
       "      <td>9</td>\n",
       "      <td>22</td>\n",
       "      <td>2.444444</td>\n",
       "    </tr>\n",
       "    <tr>\n",
       "      <th>203895</th>\n",
       "      <td>2015-16</td>\n",
       "      <td>Playoffs</td>\n",
       "      <td>Jordan McRae</td>\n",
       "      <td>CLE</td>\n",
       "      <td>4</td>\n",
       "      <td>9</td>\n",
       "      <td>2.250000</td>\n",
       "    </tr>\n",
       "    <tr>\n",
       "      <th>...</th>\n",
       "      <td>...</td>\n",
       "      <td>...</td>\n",
       "      <td>...</td>\n",
       "      <td>...</td>\n",
       "      <td>...</td>\n",
       "      <td>...</td>\n",
       "      <td>...</td>\n",
       "    </tr>\n",
       "    <tr>\n",
       "      <th>1630608</th>\n",
       "      <td>2023-24</td>\n",
       "      <td>Regular</td>\n",
       "      <td>Malcolm Cazalon</td>\n",
       "      <td>DET</td>\n",
       "      <td>3</td>\n",
       "      <td>0</td>\n",
       "      <td>0.000000</td>\n",
       "    </tr>\n",
       "    <tr>\n",
       "      <th>1629232</th>\n",
       "      <td>2023-24</td>\n",
       "      <td>Regular</td>\n",
       "      <td>Kaiser Gates</td>\n",
       "      <td>NOP</td>\n",
       "      <td>7</td>\n",
       "      <td>0</td>\n",
       "      <td>0.000000</td>\n",
       "    </tr>\n",
       "    <tr>\n",
       "      <th>1630606</th>\n",
       "      <td>2023-24</td>\n",
       "      <td>Regular</td>\n",
       "      <td>Javonte Smart</td>\n",
       "      <td>PHI</td>\n",
       "      <td>1</td>\n",
       "      <td>0</td>\n",
       "      <td>0.000000</td>\n",
       "    </tr>\n",
       "    <tr>\n",
       "      <th>1630560</th>\n",
       "      <td>2021-22</td>\n",
       "      <td>Playoffs</td>\n",
       "      <td>Cam Thomas</td>\n",
       "      <td>BKN</td>\n",
       "      <td>0</td>\n",
       "      <td>0</td>\n",
       "      <td>NaN</td>\n",
       "    </tr>\n",
       "    <tr>\n",
       "      <th>1630549</th>\n",
       "      <td>2021-22</td>\n",
       "      <td>Playoffs</td>\n",
       "      <td>Day'Ron Sharpe</td>\n",
       "      <td>BKN</td>\n",
       "      <td>0</td>\n",
       "      <td>0</td>\n",
       "      <td>NaN</td>\n",
       "    </tr>\n",
       "  </tbody>\n",
       "</table>\n",
       "<p>5337 rows × 7 columns</p>\n",
       "</div>"
      ],
      "text/plain": [
       "              Year Season_type           Player Team  Minutes Played  Points  \\\n",
       "Player_ID                                                                      \n",
       "1628513    2017-18     Regular  Naz Mitrou-Long  UTA               1       3   \n",
       "1627098    2016-17    Playoffs  Malcolm Delaney  ATL               3       8   \n",
       "201880     2014-15    Playoffs    Greg Stiemsma  TOR               2       5   \n",
       "1628995    2021-22    Playoffs    Kevin Knox II  ATL               9      22   \n",
       "203895     2015-16    Playoffs     Jordan McRae  CLE               4       9   \n",
       "...            ...         ...              ...  ...             ...     ...   \n",
       "1630608    2023-24     Regular  Malcolm Cazalon  DET               3       0   \n",
       "1629232    2023-24     Regular     Kaiser Gates  NOP               7       0   \n",
       "1630606    2023-24     Regular    Javonte Smart  PHI               1       0   \n",
       "1630560    2021-22    Playoffs       Cam Thomas  BKN               0       0   \n",
       "1630549    2021-22    Playoffs   Day'Ron Sharpe  BKN               0       0   \n",
       "\n",
       "           Points Per Min  \n",
       "Player_ID                  \n",
       "1628513          3.000000  \n",
       "1627098          2.666667  \n",
       "201880           2.500000  \n",
       "1628995          2.444444  \n",
       "203895           2.250000  \n",
       "...                   ...  \n",
       "1630608          0.000000  \n",
       "1629232          0.000000  \n",
       "1630606          0.000000  \n",
       "1630560               NaN  \n",
       "1630549               NaN  \n",
       "\n",
       "[5337 rows x 7 columns]"
      ]
     },
     "execution_count": 19,
     "metadata": {},
     "output_type": "execute_result"
    }
   ],
   "source": [
    "# Using 'groupby' function on the players to bring the playoff and regular season points together\n",
    "\n",
    "scatter_df = best_sorted.groupby('Player')\n",
    "scatter_df.head()\n"
   ]
  },
  {
   "cell_type": "code",
   "execution_count": 20,
   "metadata": {},
   "outputs": [
    {
     "name": "stderr",
     "output_type": "stream",
     "text": [
      "C:\\Users\\Koi Vi\\AppData\\Local\\Temp\\ipykernel_30980\\4267039706.py:2: SettingWithCopyWarning:\n",
      "\n",
      "\n",
      "A value is trying to be set on a copy of a slice from a DataFrame.\n",
      "Try using .loc[row_indexer,col_indexer] = value instead\n",
      "\n",
      "See the caveats in the documentation: https://pandas.pydata.org/pandas-docs/stable/user_guide/indexing.html#returning-a-view-versus-a-copy\n",
      "\n",
      "C:\\Users\\Koi Vi\\AppData\\Local\\Temp\\ipykernel_30980\\4267039706.py:3: SettingWithCopyWarning:\n",
      "\n",
      "\n",
      "A value is trying to be set on a copy of a slice from a DataFrame.\n",
      "Try using .loc[row_indexer,col_indexer] = value instead\n",
      "\n",
      "See the caveats in the documentation: https://pandas.pydata.org/pandas-docs/stable/user_guide/indexing.html#returning-a-view-versus-a-copy\n",
      "\n",
      "C:\\Users\\Koi Vi\\AppData\\Local\\Temp\\ipykernel_30980\\4267039706.py:4: SettingWithCopyWarning:\n",
      "\n",
      "\n",
      "A value is trying to be set on a copy of a slice from a DataFrame.\n",
      "Try using .loc[row_indexer,col_indexer] = value instead\n",
      "\n",
      "See the caveats in the documentation: https://pandas.pydata.org/pandas-docs/stable/user_guide/indexing.html#returning-a-view-versus-a-copy\n",
      "\n",
      "C:\\Users\\Koi Vi\\AppData\\Local\\Temp\\ipykernel_30980\\4267039706.py:5: SettingWithCopyWarning:\n",
      "\n",
      "\n",
      "A value is trying to be set on a copy of a slice from a DataFrame.\n",
      "Try using .loc[row_indexer,col_indexer] = value instead\n",
      "\n",
      "See the caveats in the documentation: https://pandas.pydata.org/pandas-docs/stable/user_guide/indexing.html#returning-a-view-versus-a-copy\n",
      "\n",
      "C:\\Users\\Koi Vi\\AppData\\Local\\Temp\\ipykernel_30980\\4267039706.py:6: SettingWithCopyWarning:\n",
      "\n",
      "\n",
      "A value is trying to be set on a copy of a slice from a DataFrame.\n",
      "Try using .loc[row_indexer,col_indexer] = value instead\n",
      "\n",
      "See the caveats in the documentation: https://pandas.pydata.org/pandas-docs/stable/user_guide/indexing.html#returning-a-view-versus-a-copy\n",
      "\n",
      "C:\\Users\\Koi Vi\\AppData\\Local\\Temp\\ipykernel_30980\\4267039706.py:7: SettingWithCopyWarning:\n",
      "\n",
      "\n",
      "A value is trying to be set on a copy of a slice from a DataFrame.\n",
      "Try using .loc[row_indexer,col_indexer] = value instead\n",
      "\n",
      "See the caveats in the documentation: https://pandas.pydata.org/pandas-docs/stable/user_guide/indexing.html#returning-a-view-versus-a-copy\n",
      "\n",
      "C:\\Users\\Koi Vi\\AppData\\Local\\Temp\\ipykernel_30980\\4267039706.py:8: SettingWithCopyWarning:\n",
      "\n",
      "\n",
      "A value is trying to be set on a copy of a slice from a DataFrame.\n",
      "Try using .loc[row_indexer,col_indexer] = value instead\n",
      "\n",
      "See the caveats in the documentation: https://pandas.pydata.org/pandas-docs/stable/user_guide/indexing.html#returning-a-view-versus-a-copy\n",
      "\n",
      "C:\\Users\\Koi Vi\\AppData\\Local\\Temp\\ipykernel_30980\\4267039706.py:9: SettingWithCopyWarning:\n",
      "\n",
      "\n",
      "A value is trying to be set on a copy of a slice from a DataFrame.\n",
      "Try using .loc[row_indexer,col_indexer] = value instead\n",
      "\n",
      "See the caveats in the documentation: https://pandas.pydata.org/pandas-docs/stable/user_guide/indexing.html#returning-a-view-versus-a-copy\n",
      "\n",
      "C:\\Users\\Koi Vi\\AppData\\Local\\Temp\\ipykernel_30980\\4267039706.py:10: SettingWithCopyWarning:\n",
      "\n",
      "\n",
      "A value is trying to be set on a copy of a slice from a DataFrame.\n",
      "Try using .loc[row_indexer,col_indexer] = value instead\n",
      "\n",
      "See the caveats in the documentation: https://pandas.pydata.org/pandas-docs/stable/user_guide/indexing.html#returning-a-view-versus-a-copy\n",
      "\n",
      "C:\\Users\\Koi Vi\\AppData\\Local\\Temp\\ipykernel_30980\\4267039706.py:11: SettingWithCopyWarning:\n",
      "\n",
      "\n",
      "A value is trying to be set on a copy of a slice from a DataFrame.\n",
      "Try using .loc[row_indexer,col_indexer] = value instead\n",
      "\n",
      "See the caveats in the documentation: https://pandas.pydata.org/pandas-docs/stable/user_guide/indexing.html#returning-a-view-versus-a-copy\n",
      "\n",
      "C:\\Users\\Koi Vi\\AppData\\Local\\Temp\\ipykernel_30980\\4267039706.py:12: SettingWithCopyWarning:\n",
      "\n",
      "\n",
      "A value is trying to be set on a copy of a slice from a DataFrame.\n",
      "Try using .loc[row_indexer,col_indexer] = value instead\n",
      "\n",
      "See the caveats in the documentation: https://pandas.pydata.org/pandas-docs/stable/user_guide/indexing.html#returning-a-view-versus-a-copy\n",
      "\n",
      "C:\\Users\\Koi Vi\\AppData\\Local\\Temp\\ipykernel_30980\\4267039706.py:13: SettingWithCopyWarning:\n",
      "\n",
      "\n",
      "A value is trying to be set on a copy of a slice from a DataFrame.\n",
      "Try using .loc[row_indexer,col_indexer] = value instead\n",
      "\n",
      "See the caveats in the documentation: https://pandas.pydata.org/pandas-docs/stable/user_guide/indexing.html#returning-a-view-versus-a-copy\n",
      "\n",
      "C:\\Users\\Koi Vi\\AppData\\Local\\Temp\\ipykernel_30980\\4267039706.py:15: SettingWithCopyWarning:\n",
      "\n",
      "\n",
      "A value is trying to be set on a copy of a slice from a DataFrame.\n",
      "Try using .loc[row_indexer,col_indexer] = value instead\n",
      "\n",
      "See the caveats in the documentation: https://pandas.pydata.org/pandas-docs/stable/user_guide/indexing.html#returning-a-view-versus-a-copy\n",
      "\n"
     ]
    }
   ],
   "source": [
    "# Renaming the Year in the Dataframe\n",
    "df_filtered['Year'] = df_filtered['Year'].replace('2012-13', '2012')\n",
    "df_filtered['Year'] = df_filtered['Year'].replace('2013-14', '2013')\n",
    "df_filtered['Year'] = df_filtered['Year'].replace('2014-15', '2014')\n",
    "df_filtered['Year'] = df_filtered['Year'].replace('2015-16', '2015')\n",
    "df_filtered['Year'] = df_filtered['Year'].replace('2016-17', '2016')\n",
    "df_filtered['Year'] = df_filtered['Year'].replace('2017-18', '2017')\n",
    "df_filtered['Year'] = df_filtered['Year'].replace('2018-19', '2018')\n",
    "df_filtered['Year'] = df_filtered['Year'].replace('2019-20', '2019')\n",
    "df_filtered['Year'] = df_filtered['Year'].replace('2020-21', '2020')\n",
    "df_filtered['Year'] = df_filtered['Year'].replace('2021-22', '2021')\n",
    "df_filtered['Year'] = df_filtered['Year'].replace('2022-23', '2022')\n",
    "df_filtered['Year'] = df_filtered['Year'].replace('2023-24', '2023')\n",
    "\n",
    "df_filtered['Points Per Min'] = df_filtered['Points Per Min'] * 100"
   ]
  },
  {
   "cell_type": "markdown",
   "metadata": {},
   "source": [
    "# Team Performance Analysis"
   ]
  },
  {
   "cell_type": "code",
   "execution_count": 21,
   "metadata": {},
   "outputs": [
    {
     "data": {
      "text/html": [
       "<div>\n",
       "<style scoped>\n",
       "    .dataframe tbody tr th:only-of-type {\n",
       "        vertical-align: middle;\n",
       "    }\n",
       "\n",
       "    .dataframe tbody tr th {\n",
       "        vertical-align: top;\n",
       "    }\n",
       "\n",
       "    .dataframe thead th {\n",
       "        text-align: right;\n",
       "    }\n",
       "</style>\n",
       "<table border=\"1\" class=\"dataframe\">\n",
       "  <thead>\n",
       "    <tr style=\"text-align: right;\">\n",
       "      <th></th>\n",
       "      <th>Year</th>\n",
       "      <th>Season_type</th>\n",
       "      <th>Player_ID</th>\n",
       "      <th>Player</th>\n",
       "      <th>Team</th>\n",
       "      <th>Minutes Played</th>\n",
       "      <th>Points</th>\n",
       "      <th>Points Per Min</th>\n",
       "    </tr>\n",
       "  </thead>\n",
       "  <tbody>\n",
       "    <tr>\n",
       "      <th>0</th>\n",
       "      <td>2012</td>\n",
       "      <td>Regular</td>\n",
       "      <td>201142</td>\n",
       "      <td>Kevin Durant</td>\n",
       "      <td>OKC</td>\n",
       "      <td>3119</td>\n",
       "      <td>2280</td>\n",
       "      <td>73.100353</td>\n",
       "    </tr>\n",
       "    <tr>\n",
       "      <th>1</th>\n",
       "      <td>2012</td>\n",
       "      <td>Regular</td>\n",
       "      <td>977</td>\n",
       "      <td>Kobe Bryant</td>\n",
       "      <td>LAL</td>\n",
       "      <td>3013</td>\n",
       "      <td>2133</td>\n",
       "      <td>70.793229</td>\n",
       "    </tr>\n",
       "    <tr>\n",
       "      <th>2</th>\n",
       "      <td>2012</td>\n",
       "      <td>Regular</td>\n",
       "      <td>2544</td>\n",
       "      <td>LeBron James</td>\n",
       "      <td>MIA</td>\n",
       "      <td>2877</td>\n",
       "      <td>2036</td>\n",
       "      <td>70.768161</td>\n",
       "    </tr>\n",
       "    <tr>\n",
       "      <th>3</th>\n",
       "      <td>2012</td>\n",
       "      <td>Regular</td>\n",
       "      <td>201935</td>\n",
       "      <td>James Harden</td>\n",
       "      <td>HOU</td>\n",
       "      <td>2985</td>\n",
       "      <td>2023</td>\n",
       "      <td>67.772194</td>\n",
       "    </tr>\n",
       "    <tr>\n",
       "      <th>4</th>\n",
       "      <td>2012</td>\n",
       "      <td>Regular</td>\n",
       "      <td>2546</td>\n",
       "      <td>Carmelo Anthony</td>\n",
       "      <td>NYK</td>\n",
       "      <td>2482</td>\n",
       "      <td>1920</td>\n",
       "      <td>77.356970</td>\n",
       "    </tr>\n",
       "    <tr>\n",
       "      <th>...</th>\n",
       "      <td>...</td>\n",
       "      <td>...</td>\n",
       "      <td>...</td>\n",
       "      <td>...</td>\n",
       "      <td>...</td>\n",
       "      <td>...</td>\n",
       "      <td>...</td>\n",
       "      <td>...</td>\n",
       "    </tr>\n",
       "    <tr>\n",
       "      <th>8198</th>\n",
       "      <td>2023</td>\n",
       "      <td>Regular</td>\n",
       "      <td>203484</td>\n",
       "      <td>Kentavious Caldwell-Pope</td>\n",
       "      <td>DEN</td>\n",
       "      <td>2402</td>\n",
       "      <td>766</td>\n",
       "      <td>31.890092</td>\n",
       "    </tr>\n",
       "    <tr>\n",
       "      <th>8200</th>\n",
       "      <td>2023</td>\n",
       "      <td>Regular</td>\n",
       "      <td>1628404</td>\n",
       "      <td>Josh Hart</td>\n",
       "      <td>NYK</td>\n",
       "      <td>2707</td>\n",
       "      <td>761</td>\n",
       "      <td>28.112301</td>\n",
       "    </tr>\n",
       "    <tr>\n",
       "      <th>8201</th>\n",
       "      <td>2023</td>\n",
       "      <td>Regular</td>\n",
       "      <td>1630183</td>\n",
       "      <td>Jaden McDaniels</td>\n",
       "      <td>MIN</td>\n",
       "      <td>2105</td>\n",
       "      <td>757</td>\n",
       "      <td>35.961995</td>\n",
       "    </tr>\n",
       "    <tr>\n",
       "      <th>8207</th>\n",
       "      <td>2023</td>\n",
       "      <td>Regular</td>\n",
       "      <td>1627936</td>\n",
       "      <td>Alex Caruso</td>\n",
       "      <td>CHI</td>\n",
       "      <td>2040</td>\n",
       "      <td>715</td>\n",
       "      <td>35.049020</td>\n",
       "    </tr>\n",
       "    <tr>\n",
       "      <th>8210</th>\n",
       "      <td>2023</td>\n",
       "      <td>Regular</td>\n",
       "      <td>1627752</td>\n",
       "      <td>Taurean Prince</td>\n",
       "      <td>LAL</td>\n",
       "      <td>2108</td>\n",
       "      <td>697</td>\n",
       "      <td>33.064516</td>\n",
       "    </tr>\n",
       "  </tbody>\n",
       "</table>\n",
       "<p>1186 rows × 8 columns</p>\n",
       "</div>"
      ],
      "text/plain": [
       "      Year Season_type  Player_ID                    Player Team  \\\n",
       "0     2012     Regular     201142              Kevin Durant  OKC   \n",
       "1     2012     Regular        977               Kobe Bryant  LAL   \n",
       "2     2012     Regular       2544              LeBron James  MIA   \n",
       "3     2012     Regular     201935              James Harden  HOU   \n",
       "4     2012     Regular       2546           Carmelo Anthony  NYK   \n",
       "...    ...         ...        ...                       ...  ...   \n",
       "8198  2023     Regular     203484  Kentavious Caldwell-Pope  DEN   \n",
       "8200  2023     Regular    1628404                 Josh Hart  NYK   \n",
       "8201  2023     Regular    1630183           Jaden McDaniels  MIN   \n",
       "8207  2023     Regular    1627936               Alex Caruso  CHI   \n",
       "8210  2023     Regular    1627752            Taurean Prince  LAL   \n",
       "\n",
       "      Minutes Played  Points  Points Per Min  \n",
       "0               3119    2280       73.100353  \n",
       "1               3013    2133       70.793229  \n",
       "2               2877    2036       70.768161  \n",
       "3               2985    2023       67.772194  \n",
       "4               2482    1920       77.356970  \n",
       "...              ...     ...             ...  \n",
       "8198            2402     766       31.890092  \n",
       "8200            2707     761       28.112301  \n",
       "8201            2105     757       35.961995  \n",
       "8207            2040     715       35.049020  \n",
       "8210            2108     697       33.064516  \n",
       "\n",
       "[1186 rows x 8 columns]"
      ]
     },
     "execution_count": 21,
     "metadata": {},
     "output_type": "execute_result"
    }
   ],
   "source": [
    "# Groupby function to group the players by the teams\n",
    "\n",
    "df_filtered"
   ]
  },
  {
   "cell_type": "code",
   "execution_count": 22,
   "metadata": {},
   "outputs": [
    {
     "data": {
      "text/html": [
       "<div>\n",
       "<style scoped>\n",
       "    .dataframe tbody tr th:only-of-type {\n",
       "        vertical-align: middle;\n",
       "    }\n",
       "\n",
       "    .dataframe tbody tr th {\n",
       "        vertical-align: top;\n",
       "    }\n",
       "\n",
       "    .dataframe thead th {\n",
       "        text-align: right;\n",
       "    }\n",
       "</style>\n",
       "<table border=\"1\" class=\"dataframe\">\n",
       "  <thead>\n",
       "    <tr style=\"text-align: right;\">\n",
       "      <th></th>\n",
       "      <th>Player</th>\n",
       "      <th>Team</th>\n",
       "      <th>Minutes Played</th>\n",
       "      <th>Points</th>\n",
       "    </tr>\n",
       "  </thead>\n",
       "  <tbody>\n",
       "    <tr>\n",
       "      <th>0</th>\n",
       "      <td>LeBron James</td>\n",
       "      <td>MIA</td>\n",
       "      <td>960</td>\n",
       "      <td>596</td>\n",
       "    </tr>\n",
       "    <tr>\n",
       "      <th>1</th>\n",
       "      <td>Tony Parker</td>\n",
       "      <td>SAS</td>\n",
       "      <td>765</td>\n",
       "      <td>432</td>\n",
       "    </tr>\n",
       "    <tr>\n",
       "      <th>2</th>\n",
       "      <td>Tim Duncan</td>\n",
       "      <td>SAS</td>\n",
       "      <td>735</td>\n",
       "      <td>381</td>\n",
       "    </tr>\n",
       "    <tr>\n",
       "      <th>3</th>\n",
       "      <td>Paul George</td>\n",
       "      <td>IND</td>\n",
       "      <td>780</td>\n",
       "      <td>365</td>\n",
       "    </tr>\n",
       "    <tr>\n",
       "      <th>4</th>\n",
       "      <td>Dwyane Wade</td>\n",
       "      <td>MIA</td>\n",
       "      <td>782</td>\n",
       "      <td>349</td>\n",
       "    </tr>\n",
       "    <tr>\n",
       "      <th>...</th>\n",
       "      <td>...</td>\n",
       "      <td>...</td>\n",
       "      <td>...</td>\n",
       "      <td>...</td>\n",
       "    </tr>\n",
       "    <tr>\n",
       "      <th>2571</th>\n",
       "      <td>Olivier-Maxence Prosper</td>\n",
       "      <td>DAL</td>\n",
       "      <td>9</td>\n",
       "      <td>0</td>\n",
       "    </tr>\n",
       "    <tr>\n",
       "      <th>2572</th>\n",
       "      <td>Orlando Robinson</td>\n",
       "      <td>MIA</td>\n",
       "      <td>2</td>\n",
       "      <td>0</td>\n",
       "    </tr>\n",
       "    <tr>\n",
       "      <th>2573</th>\n",
       "      <td>T.J. Warren</td>\n",
       "      <td>MIN</td>\n",
       "      <td>11</td>\n",
       "      <td>0</td>\n",
       "    </tr>\n",
       "    <tr>\n",
       "      <th>2574</th>\n",
       "      <td>Thaddeus Young</td>\n",
       "      <td>PHX</td>\n",
       "      <td>4</td>\n",
       "      <td>0</td>\n",
       "    </tr>\n",
       "    <tr>\n",
       "      <th>2575</th>\n",
       "      <td>Thanasis Antetokounmpo</td>\n",
       "      <td>MIL</td>\n",
       "      <td>5</td>\n",
       "      <td>0</td>\n",
       "    </tr>\n",
       "  </tbody>\n",
       "</table>\n",
       "<p>2576 rows × 4 columns</p>\n",
       "</div>"
      ],
      "text/plain": [
       "                       Player Team  Minutes Played  Points\n",
       "0                LeBron James  MIA             960     596\n",
       "1                 Tony Parker  SAS             765     432\n",
       "2                  Tim Duncan  SAS             735     381\n",
       "3                 Paul George  IND             780     365\n",
       "4                 Dwyane Wade  MIA             782     349\n",
       "...                       ...  ...             ...     ...\n",
       "2571  Olivier-Maxence Prosper  DAL               9       0\n",
       "2572         Orlando Robinson  MIA               2       0\n",
       "2573              T.J. Warren  MIN              11       0\n",
       "2574           Thaddeus Young  PHX               4       0\n",
       "2575   Thanasis Antetokounmpo  MIL               5       0\n",
       "\n",
       "[2576 rows x 4 columns]"
      ]
     },
     "execution_count": 22,
     "metadata": {},
     "output_type": "execute_result"
    }
   ],
   "source": [
    "# Creating a smaller dataframe to plot team data in playoffs alone\n",
    "\n",
    "columns= [\"Player\" , \"Team\" , \"Minutes Played\" , \"Points\" ]\n",
    "\n",
    "teamdata_playoff_df= playoffs_df[columns]\n",
    "teamdata_playoff_df"
   ]
  },
  {
   "cell_type": "code",
   "execution_count": 23,
   "metadata": {},
   "outputs": [
    {
     "name": "stdout",
     "output_type": "stream",
     "text": [
      "Team\n",
      "ATL     7480\n",
      "BKN     5556\n",
      "BOS    15396\n",
      "CHA     1000\n",
      "CHI     3762\n",
      "CLE    10145\n",
      "DAL     7416\n",
      "DEN     9380\n",
      "DET      770\n",
      "GSW    17520\n",
      "HOU     9022\n",
      "IND     7985\n",
      "LAC    10235\n",
      "LAL     5624\n",
      "MEM     6594\n",
      "MIA    13583\n",
      "MIL     9972\n",
      "MIN     3410\n",
      "NOP     2410\n",
      "NYK     4078\n",
      "OKC     8422\n",
      "ORL     1697\n",
      "PHI     7220\n",
      "PHX     5466\n",
      "POR     6604\n",
      "SAC      796\n",
      "SAS     9217\n",
      "TOR     9346\n",
      "UTA     5365\n",
      "WAS     4603\n",
      "Name: Points, dtype: int64\n"
     ]
    }
   ],
   "source": [
    "# Adding the points of specific teams in playoffs\n",
    "\n",
    "team_points_df = teamdata_playoff_df.groupby('Team')['Points'].sum()\n",
    "print(team_points_df)"
   ]
  },
  {
   "cell_type": "code",
   "execution_count": 24,
   "metadata": {},
   "outputs": [
    {
     "name": "stdout",
     "output_type": "stream",
     "text": [
      "The total number of teams are:  30\n"
     ]
    }
   ],
   "source": [
    "# Identifying total number of teams in playoffs\n",
    "\n",
    "total=team_points_df.count()\n",
    "\n",
    "print(\"The total number of teams are: \", total)"
   ]
  },
  {
   "cell_type": "code",
   "execution_count": 25,
   "metadata": {},
   "outputs": [
    {
     "data": {
      "text/html": [
       "<div>\n",
       "<style scoped>\n",
       "    .dataframe tbody tr th:only-of-type {\n",
       "        vertical-align: middle;\n",
       "    }\n",
       "\n",
       "    .dataframe tbody tr th {\n",
       "        vertical-align: top;\n",
       "    }\n",
       "\n",
       "    .dataframe thead th {\n",
       "        text-align: right;\n",
       "    }\n",
       "</style>\n",
       "<table border=\"1\" class=\"dataframe\">\n",
       "  <thead>\n",
       "    <tr style=\"text-align: right;\">\n",
       "      <th></th>\n",
       "      <th>Player</th>\n",
       "      <th>Team</th>\n",
       "      <th>Minutes Played</th>\n",
       "      <th>Points</th>\n",
       "    </tr>\n",
       "  </thead>\n",
       "  <tbody>\n",
       "    <tr>\n",
       "      <th>0</th>\n",
       "      <td>Kevin Durant</td>\n",
       "      <td>OKC</td>\n",
       "      <td>3119</td>\n",
       "      <td>2280</td>\n",
       "    </tr>\n",
       "    <tr>\n",
       "      <th>1</th>\n",
       "      <td>Kobe Bryant</td>\n",
       "      <td>LAL</td>\n",
       "      <td>3013</td>\n",
       "      <td>2133</td>\n",
       "    </tr>\n",
       "    <tr>\n",
       "      <th>2</th>\n",
       "      <td>LeBron James</td>\n",
       "      <td>MIA</td>\n",
       "      <td>2877</td>\n",
       "      <td>2036</td>\n",
       "    </tr>\n",
       "    <tr>\n",
       "      <th>3</th>\n",
       "      <td>James Harden</td>\n",
       "      <td>HOU</td>\n",
       "      <td>2985</td>\n",
       "      <td>2023</td>\n",
       "    </tr>\n",
       "    <tr>\n",
       "      <th>4</th>\n",
       "      <td>Carmelo Anthony</td>\n",
       "      <td>NYK</td>\n",
       "      <td>2482</td>\n",
       "      <td>1920</td>\n",
       "    </tr>\n",
       "    <tr>\n",
       "      <th>...</th>\n",
       "      <td>...</td>\n",
       "      <td>...</td>\n",
       "      <td>...</td>\n",
       "      <td>...</td>\n",
       "    </tr>\n",
       "    <tr>\n",
       "      <th>6254</th>\n",
       "      <td>Justin Jackson</td>\n",
       "      <td>MIN</td>\n",
       "      <td>1</td>\n",
       "      <td>0</td>\n",
       "    </tr>\n",
       "    <tr>\n",
       "      <th>6255</th>\n",
       "      <td>Kaiser Gates</td>\n",
       "      <td>NOP</td>\n",
       "      <td>7</td>\n",
       "      <td>0</td>\n",
       "    </tr>\n",
       "    <tr>\n",
       "      <th>6256</th>\n",
       "      <td>Malcolm Cazalon</td>\n",
       "      <td>DET</td>\n",
       "      <td>3</td>\n",
       "      <td>0</td>\n",
       "    </tr>\n",
       "    <tr>\n",
       "      <th>6257</th>\n",
       "      <td>Ron Harper Jr.</td>\n",
       "      <td>TOR</td>\n",
       "      <td>4</td>\n",
       "      <td>0</td>\n",
       "    </tr>\n",
       "    <tr>\n",
       "      <th>6258</th>\n",
       "      <td>Ryan Arcidiacono</td>\n",
       "      <td>NYK</td>\n",
       "      <td>45</td>\n",
       "      <td>0</td>\n",
       "    </tr>\n",
       "  </tbody>\n",
       "</table>\n",
       "<p>6259 rows × 4 columns</p>\n",
       "</div>"
      ],
      "text/plain": [
       "                Player Team  Minutes Played  Points\n",
       "0         Kevin Durant  OKC            3119    2280\n",
       "1          Kobe Bryant  LAL            3013    2133\n",
       "2         LeBron James  MIA            2877    2036\n",
       "3         James Harden  HOU            2985    2023\n",
       "4      Carmelo Anthony  NYK            2482    1920\n",
       "...                ...  ...             ...     ...\n",
       "6254    Justin Jackson  MIN               1       0\n",
       "6255      Kaiser Gates  NOP               7       0\n",
       "6256   Malcolm Cazalon  DET               3       0\n",
       "6257    Ron Harper Jr.  TOR               4       0\n",
       "6258  Ryan Arcidiacono  NYK              45       0\n",
       "\n",
       "[6259 rows x 4 columns]"
      ]
     },
     "execution_count": 25,
     "metadata": {},
     "output_type": "execute_result"
    }
   ],
   "source": [
    "# Creating a smaller dataframe to plot team data in regular season alone\n",
    "\n",
    "columns_req= [\"Player\" , \"Team\" , \"Minutes Played\" , \"Points\" ]\n",
    "\n",
    "teamdata_reg_df= reg_season_df[columns_req]\n",
    "teamdata_reg_df"
   ]
  },
  {
   "cell_type": "code",
   "execution_count": 26,
   "metadata": {},
   "outputs": [
    {
     "name": "stdout",
     "output_type": "stream",
     "text": [
      "Team\n",
      "ATL    104273\n",
      "BKN    101822\n",
      "BOS    104092\n",
      "CHA     98906\n",
      "CHI     99644\n",
      "CLE    104221\n",
      "DAL    103930\n",
      "DEN    106749\n",
      "DET     95959\n",
      "GSW    105977\n",
      "HOU    106541\n",
      "IND    104742\n",
      "LAC    110430\n",
      "LAL    105238\n",
      "MEM     98221\n",
      "MIA    103537\n",
      "MIL    107983\n",
      "MIN    100537\n",
      "NOH      7814\n",
      "NOP     95881\n",
      "NYK     98637\n",
      "OKC    107875\n",
      "ORL     95534\n",
      "PHI    103453\n",
      "PHX    104723\n",
      "POR    105060\n",
      "SAC    104674\n",
      "SAS    102334\n",
      "TOR    106107\n",
      "UTA     99196\n",
      "WAS    103235\n",
      "Name: Points, dtype: int64\n"
     ]
    }
   ],
   "source": [
    "# Adding the points of specific teams in regular season\n",
    "\n",
    "team_pointsreg_df = teamdata_reg_df.groupby('Team')['Points'].sum()\n",
    "print(team_pointsreg_df)"
   ]
  },
  {
   "cell_type": "code",
   "execution_count": 27,
   "metadata": {},
   "outputs": [
    {
     "name": "stdout",
     "output_type": "stream",
     "text": [
      "The total number of teams are:  30\n"
     ]
    }
   ],
   "source": [
    "# Identifying total number of teams in regular season\n",
    "\n",
    "total_reg=team_pointsreg_df.count()\n",
    "\n",
    "print(\"The total number of teams are: \", total)"
   ]
  },
  {
   "cell_type": "code",
   "execution_count": 28,
   "metadata": {},
   "outputs": [
    {
     "data": {
      "image/png": "[encoded data removed]",
      "text/plain": [
       "<Figure size 1200x600 with 1 Axes>"
      ]
     },
     "metadata": {},
     "output_type": "display_data"
    }
   ],
   "source": [
    "# Plotting a graph for the playoff points \n",
    "\n",
    "pl = team_points_df.plot(kind='bar', color='blue', alpha=0.5, figsize=(12, 6), \n",
    "                         linewidth=1.5, edgecolor='black')\n",
    "\n",
    "plt.ylim(0,19000)\n",
    "\n",
    "# Add title and labels\n",
    "plt.title('PlayOff Points', fontsize=16, weight='bold')\n",
    "plt.xlabel('Teams', fontsize=12, weight='bold')\n",
    "plt.ylabel('Points', fontsize=12 , weight='bold')\n",
    "plt.legend()\n",
    "plt.grid(True, linestyle='--', alpha=0.7)\n",
    "plt.savefig(\"PlayOff_Points.png\")"
   ]
  },
  {
   "cell_type": "code",
   "execution_count": 29,
   "metadata": {},
   "outputs": [
    {
     "data": {
      "text/plain": [
       "Team\n",
       "ATL    104273\n",
       "BKN    101822\n",
       "BOS    104092\n",
       "CHA     98906\n",
       "CHI     99644\n",
       "CLE    104221\n",
       "DAL    103930\n",
       "DEN    106749\n",
       "DET     95959\n",
       "GSW    105977\n",
       "HOU    106541\n",
       "IND    104742\n",
       "LAC    110430\n",
       "LAL    105238\n",
       "MEM     98221\n",
       "MIA    103537\n",
       "MIL    107983\n",
       "MIN    100537\n",
       "NOH      7814\n",
       "NOP     95881\n",
       "NYK     98637\n",
       "OKC    107875\n",
       "ORL     95534\n",
       "PHI    103453\n",
       "PHX    104723\n",
       "POR    105060\n",
       "SAC    104674\n",
       "SAS    102334\n",
       "TOR    106107\n",
       "UTA     99196\n",
       "WAS    103235\n",
       "Name: Points, dtype: int64"
      ]
     },
     "execution_count": 29,
     "metadata": {},
     "output_type": "execute_result"
    }
   ],
   "source": [
    "team_pointsreg_df"
   ]
  },
  {
   "cell_type": "code",
   "execution_count": 30,
   "metadata": {},
   "outputs": [
    {
     "data": {
      "image/png": "[encoded data removed]",
      "text/plain": [
       "<Figure size 1200x600 with 1 Axes>"
      ]
     },
     "metadata": {},
     "output_type": "display_data"
    }
   ],
   "source": [
    "# Plotting a graph for the regular season points \n",
    "\n",
    "team_pointsreg_df.plot(kind='bar', color='red', alpha=0.5, figsize=(12, 6),linewidth=1.5, edgecolor='black')\n",
    "\n",
    "plt.ylim(0,120000)\n",
    "\n",
    "# Add title and labels\n",
    "plt.title('Regular Season Points', fontsize=16, weight='bold')\n",
    "plt.xlabel('Teams', fontsize=12, weight='bold')\n",
    "plt.ylabel('Points', fontsize=12 , weight='bold')\n",
    "plt.legend()\n",
    "\n",
    "plt.grid(True, linestyle='--', alpha=0.7)\n",
    "plt.savefig(\"Regular_Season_Points.png\")"
   ]
  },
  {
   "cell_type": "code",
   "execution_count": 31,
   "metadata": {},
   "outputs": [
    {
     "data": {
      "image/png": "[encoded data removed]",
      "text/plain": [
       "<Figure size 1200x600 with 1 Axes>"
      ]
     },
     "metadata": {},
     "output_type": "display_data"
    }
   ],
   "source": [
    "# Plotting a graph for the playoff and regular season points \n",
    "\n",
    "data1 = team_points_df\n",
    "data2 = team_pointsreg_df\n",
    "\n",
    "# Create the plot\n",
    "fig, ax = plt.subplots(figsize=(12, 6))\n",
    "\n",
    "# Plot the first bar plot\n",
    "data1.plot(kind='bar', ax=ax, color='blue', alpha=0.4, position=0, width=0.4, label='Playoffs', \n",
    "           linewidth=1.5, edgecolor='black')\n",
    "\n",
    "# Plot the second bar plot\n",
    "data2.plot(kind='bar', ax=ax, color='red', alpha=0.5, position=1, width=0.4, label='Regular Season',\n",
    "           linewidth=1.5, edgecolor='black')\n",
    "\n",
    "# Add labels, title, and legend\n",
    "ax.set_xlabel('Teams', fontsize=12, weight='bold')\n",
    "ax.set_ylabel('Points', fontsize=12, weight='bold')\n",
    "ax.set_title('Playoffs vs Regular season Teams Performance', fontsize=16, weight='bold')\n",
    "ax.legend()\n",
    "plt.savefig(\"Playoffs_vs_Regular_season_Teams_Performance.png\")\n",
    "plt.show()\n"
   ]
  },
  {
   "cell_type": "markdown",
   "metadata": {},
   "source": [
    "## Question 5: How 3 pointers in both season types over years 2012-2024 changed the scoring trends of NBA?"
   ]
  },
  {
   "cell_type": "code",
   "execution_count": 32,
   "metadata": {},
   "outputs": [
    {
     "data": {
      "image/png": "[encoded data removed]",
      "text/plain": [
       "<Figure size 1200x700 with 1 Axes>"
      ]
     },
     "metadata": {},
     "output_type": "display_data"
    }
   ],
   "source": [
    "# Calculating Three Pointers Points for Regular Season\n",
    "reg_year = reg_season_df['Year'].unique()  # reg_year is the unique years for the regular season\n",
    "\n",
    "reg_year_grouped = reg_season_df.groupby('Year')  # reg_year_grouped is the grouped years. The result is a DataFrameGroupBy object.\n",
    "\n",
    "reg_three_points = reg_year_grouped['FG3M'].sum()  # reg_three_points is the total number of three-pointers scored in a regular season.\n",
    "\n",
    "reg_three_df = pd.DataFrame(reg_three_points)\n",
    "\n",
    "# 1st visualization: Total Three-pointers scored in Regular Season.\n",
    "\n",
    "plt.figure(figsize=(12, 7))\n",
    "plt.plot(reg_year, reg_three_df['FG3M'], label='Three Pointers', color='b', alpha = 0.7)\n",
    "plt.bar(reg_year, reg_three_df['FG3M'], color='r', alpha=0.5, width=0.5)\n",
    "\n",
    "for i, value in enumerate(reg_three_df['FG3M']):\n",
    "    plt.text(i, value + 1000, str(value), ha = 'center', va = 'bottom')\n",
    "\n",
    "plt.xlabel('Year', fontdict={'fontsize': 14, 'fontweight': 'bold', 'fontstyle': 'italic', 'family': 'cursive'})\n",
    "plt.ylabel('Total 3 Pointers', fontdict={'fontsize': 14, 'fontweight': 'bold', 'fontstyle': 'italic', 'family': 'cursive'})\n",
    "plt.title('Total 3 Pointers Scored in a Regular Season', fontdict={'fontsize': 14, 'fontweight': 'bold', 'fontstyle': 'italic', 'family': 'cursive'})\n",
    "plt.legend().set_loc('upper left')\n",
    "plt.ylim(0, 35000)\n",
    "plt.savefig(\"Total_Three_Pointers_Scored_in_a_Regular_Season.png\")\n",
    "plt.show()"
   ]
  },
  {
   "cell_type": "code",
   "execution_count": 33,
   "metadata": {},
   "outputs": [
    {
     "data": {
      "image/png": "[encoded data removed]",
      "text/plain": [
       "<Figure size 1200x700 with 1 Axes>"
      ]
     },
     "metadata": {},
     "output_type": "display_data"
    }
   ],
   "source": [
    "# Calculating Three Pointers Points for Playoffs Season\n",
    "\n",
    "po_year = playoffs_df['Year'].unique()                      # po_year is the unique years for playoffs season\n",
    "\n",
    "po_year_grouped = playoffs_df.groupby('Year')               # po_year_grouped is the grouped years. The result is DataFrameGroupBy object.\n",
    "\n",
    "po_three_points = po_year_grouped['FG3M'].sum()             # po_three_points is the total number of three pointers scored in a playoffs season.\n",
    "\n",
    "po_three_df = pd.DataFrame(po_three_points)\n",
    "\n",
    "# 2nd visualization: Total Three pointers scored in Playoffs Season.\n",
    "\n",
    "plt.figure(figsize=(12,7))\n",
    "plt.plot(po_year, po_three_df['FG3M'], label='Three Pointers', color = 'r')\n",
    "plt.bar(po_year, po_three_df['FG3M'], color= 'b', alpha = 0.5, width = 0.5)\n",
    "\n",
    "for j, value in enumerate(po_three_df['FG3M']):\n",
    "    plt.text(j, value+20, str(value), ha = 'center', va = 'bottom')\n",
    "\n",
    "plt.xlabel('Year', fontdict={'fontsize': 14, 'fontweight': 'bold', 'fontstyle': 'italic', 'family': 'cursive'})\n",
    "plt.ylabel('Total 3 Pointers', fontdict={'fontsize': 14, 'fontweight': 'bold', 'fontstyle': 'italic', 'family': 'cursive'})\n",
    "plt.legend().set_loc('upper left')\n",
    "plt.title('Total 3 Pointers Scored in a Playoff Season', fontdict={'fontsize': 14, 'fontweight': 'bold', 'fontstyle': 'italic', 'family': 'cursive'})\n",
    "plt.savefig(\"Total_Three_Pointers_Scored_in_a_Playoff_Season.png\")\n",
    "plt.ylim(0, 2350)\n",
    "plt.show()"
   ]
  }
 ],
 "metadata": {
  "kernelspec": {
   "display_name": "base",
   "language": "python",
   "name": "python3"
  },
  "language_info": {
   "codemirror_mode": {
    "name": "ipython",
    "version": 3
   },
   "file_extension": ".py",
   "mimetype": "text/x-python",
   "name": "python",
   "nbconvert_exporter": "python",
   "pygments_lexer": "ipython3",
   "version": "3.12.4"
  }
 },
 "nbformat": 4,
 "nbformat_minor": 2
}
